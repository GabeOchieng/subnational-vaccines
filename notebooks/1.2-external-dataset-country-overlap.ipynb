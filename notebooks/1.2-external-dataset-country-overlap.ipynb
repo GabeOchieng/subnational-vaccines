{
 "cells": [
  {
   "cell_type": "markdown",
   "metadata": {},
   "source": [
    "### HRSL countries from: https://ciesin.columbia.edu/data/hrsl/"
   ]
  },
  {
   "cell_type": "code",
   "execution_count": 44,
   "metadata": {},
   "outputs": [],
   "source": [
    "hrsl_countries = \"\"\"\n",
    "Algeria\n",
    "Burkina Faso\n",
    "Cambodia\n",
    "Ghana\n",
    "Haiti\n",
    "Ivory Coast\n",
    "Kenya\n",
    "Madagascar\n",
    "Malawi\n",
    "Mexico\n",
    "Mozambique\n",
    "The Philippines\n",
    "Puerto Rico\n",
    "Rwanda\n",
    "South Africa\n",
    "Sri Lanka\n",
    "Tanzania\n",
    "Thailand\n",
    "Uganda\n",
    "\"\"\".split(\"\\n\")\n",
    "hrsl_countries\n",
    "\n",
    "hrsl_countries_set = set(hrsl_countries)"
   ]
  },
  {
   "cell_type": "markdown",
   "metadata": {},
   "source": [
    "### MICS countries"
   ]
  },
  {
   "cell_type": "code",
   "execution_count": 45,
   "metadata": {},
   "outputs": [],
   "source": [
    "from pathlib import Path\n",
    "\n",
    "mics_data = Path(\"../data/external/MICS/\")\n",
    "\n",
    "mics_countries = [d.name.split(\"_\")[0] for d in mics_data.iterdir()]\n",
    "mics_countries_set = set(mics_countries)"
   ]
  },
  {
   "cell_type": "code",
   "execution_count": 46,
   "metadata": {},
   "outputs": [
    {
     "data": {
      "text/plain": [
       "{'Malawi', 'Mexico', 'Some Kenya'}"
      ]
     },
     "execution_count": 46,
     "metadata": {},
     "output_type": "execute_result"
    }
   ],
   "source": [
    "set(hrsl_countries) & set(mics_countries) ^ set([\"Some Kenya\"])"
   ]
  },
  {
   "cell_type": "markdown",
   "metadata": {},
   "source": [
    "### DHS countries\n",
    "Copied from:\n",
    "https://dhsprogram.com/data/File-Types-and-Names.cfm#CP_JUMP_10136"
   ]
  },
  {
   "cell_type": "code",
   "execution_count": 47,
   "metadata": {},
   "outputs": [
    {
     "ename": "KeyError",
     "evalue": "\"['Code' 'Country Name'] not in index\"",
     "output_type": "error",
     "traceback": [
      "\u001b[0;31m---------------------------------------------------------------------------\u001b[0m",
      "\u001b[0;31mKeyError\u001b[0m                                  Traceback (most recent call last)",
      "\u001b[0;32m<ipython-input-47-20946991a736>\u001b[0m in \u001b[0;36m<module>\u001b[0;34m()\u001b[0m\n\u001b[1;32m      4\u001b[0m \u001b[0mraw_df\u001b[0m \u001b[0;34m=\u001b[0m \u001b[0mpd\u001b[0m\u001b[0;34m.\u001b[0m\u001b[0mread_clipboard\u001b[0m\u001b[0;34m(\u001b[0m\u001b[0;34m)\u001b[0m\u001b[0;34m\u001b[0m\u001b[0m\n\u001b[1;32m      5\u001b[0m \u001b[0;34m\u001b[0m\u001b[0m\n\u001b[0;32m----> 6\u001b[0;31m \u001b[0mnew_df\u001b[0m \u001b[0;34m=\u001b[0m \u001b[0mpd\u001b[0m\u001b[0;34m.\u001b[0m\u001b[0mconcat\u001b[0m\u001b[0;34m(\u001b[0m\u001b[0;34m[\u001b[0m\u001b[0mraw_df\u001b[0m\u001b[0;34m[\u001b[0m\u001b[0;34m[\u001b[0m\u001b[0;34m'Code'\u001b[0m\u001b[0;34m,\u001b[0m \u001b[0;34m'Country Name'\u001b[0m\u001b[0;34m]\u001b[0m\u001b[0;34m]\u001b[0m\u001b[0;34m,\u001b[0m \u001b[0mraw_df\u001b[0m\u001b[0;34m[\u001b[0m\u001b[0;34m[\u001b[0m\u001b[0;34m'Code.1'\u001b[0m\u001b[0;34m,\u001b[0m \u001b[0;34m'Country Name.1'\u001b[0m\u001b[0;34m]\u001b[0m\u001b[0;34m]\u001b[0m\u001b[0;34m]\u001b[0m\u001b[0;34m)\u001b[0m\u001b[0;34m\u001b[0m\u001b[0m\n\u001b[0m\u001b[1;32m      7\u001b[0m \u001b[0;34m\u001b[0m\u001b[0m\n\u001b[1;32m      8\u001b[0m new_df['code'] = np.where(pd.isnull(new_df.Code),\n",
      "\u001b[0;32m~/anaconda3/envs/subnational-vaccines/lib/python3.6/site-packages/pandas/core/frame.py\u001b[0m in \u001b[0;36m__getitem__\u001b[0;34m(self, key)\u001b[0m\n\u001b[1;32m   2131\u001b[0m         \u001b[0;32mif\u001b[0m \u001b[0misinstance\u001b[0m\u001b[0;34m(\u001b[0m\u001b[0mkey\u001b[0m\u001b[0;34m,\u001b[0m \u001b[0;34m(\u001b[0m\u001b[0mSeries\u001b[0m\u001b[0;34m,\u001b[0m \u001b[0mnp\u001b[0m\u001b[0;34m.\u001b[0m\u001b[0mndarray\u001b[0m\u001b[0;34m,\u001b[0m \u001b[0mIndex\u001b[0m\u001b[0;34m,\u001b[0m \u001b[0mlist\u001b[0m\u001b[0;34m)\u001b[0m\u001b[0;34m)\u001b[0m\u001b[0;34m:\u001b[0m\u001b[0;34m\u001b[0m\u001b[0m\n\u001b[1;32m   2132\u001b[0m             \u001b[0;31m# either boolean or fancy integer index\u001b[0m\u001b[0;34m\u001b[0m\u001b[0;34m\u001b[0m\u001b[0m\n\u001b[0;32m-> 2133\u001b[0;31m             \u001b[0;32mreturn\u001b[0m \u001b[0mself\u001b[0m\u001b[0;34m.\u001b[0m\u001b[0m_getitem_array\u001b[0m\u001b[0;34m(\u001b[0m\u001b[0mkey\u001b[0m\u001b[0;34m)\u001b[0m\u001b[0;34m\u001b[0m\u001b[0m\n\u001b[0m\u001b[1;32m   2134\u001b[0m         \u001b[0;32melif\u001b[0m \u001b[0misinstance\u001b[0m\u001b[0;34m(\u001b[0m\u001b[0mkey\u001b[0m\u001b[0;34m,\u001b[0m \u001b[0mDataFrame\u001b[0m\u001b[0;34m)\u001b[0m\u001b[0;34m:\u001b[0m\u001b[0;34m\u001b[0m\u001b[0m\n\u001b[1;32m   2135\u001b[0m             \u001b[0;32mreturn\u001b[0m \u001b[0mself\u001b[0m\u001b[0;34m.\u001b[0m\u001b[0m_getitem_frame\u001b[0m\u001b[0;34m(\u001b[0m\u001b[0mkey\u001b[0m\u001b[0;34m)\u001b[0m\u001b[0;34m\u001b[0m\u001b[0m\n",
      "\u001b[0;32m~/anaconda3/envs/subnational-vaccines/lib/python3.6/site-packages/pandas/core/frame.py\u001b[0m in \u001b[0;36m_getitem_array\u001b[0;34m(self, key)\u001b[0m\n\u001b[1;32m   2175\u001b[0m             \u001b[0;32mreturn\u001b[0m \u001b[0mself\u001b[0m\u001b[0;34m.\u001b[0m\u001b[0m_take\u001b[0m\u001b[0;34m(\u001b[0m\u001b[0mindexer\u001b[0m\u001b[0;34m,\u001b[0m \u001b[0maxis\u001b[0m\u001b[0;34m=\u001b[0m\u001b[0;36m0\u001b[0m\u001b[0;34m,\u001b[0m \u001b[0mconvert\u001b[0m\u001b[0;34m=\u001b[0m\u001b[0;32mFalse\u001b[0m\u001b[0;34m)\u001b[0m\u001b[0;34m\u001b[0m\u001b[0m\n\u001b[1;32m   2176\u001b[0m         \u001b[0;32melse\u001b[0m\u001b[0;34m:\u001b[0m\u001b[0;34m\u001b[0m\u001b[0m\n\u001b[0;32m-> 2177\u001b[0;31m             \u001b[0mindexer\u001b[0m \u001b[0;34m=\u001b[0m \u001b[0mself\u001b[0m\u001b[0;34m.\u001b[0m\u001b[0mloc\u001b[0m\u001b[0;34m.\u001b[0m\u001b[0m_convert_to_indexer\u001b[0m\u001b[0;34m(\u001b[0m\u001b[0mkey\u001b[0m\u001b[0;34m,\u001b[0m \u001b[0maxis\u001b[0m\u001b[0;34m=\u001b[0m\u001b[0;36m1\u001b[0m\u001b[0;34m)\u001b[0m\u001b[0;34m\u001b[0m\u001b[0m\n\u001b[0m\u001b[1;32m   2178\u001b[0m             \u001b[0;32mreturn\u001b[0m \u001b[0mself\u001b[0m\u001b[0;34m.\u001b[0m\u001b[0m_take\u001b[0m\u001b[0;34m(\u001b[0m\u001b[0mindexer\u001b[0m\u001b[0;34m,\u001b[0m \u001b[0maxis\u001b[0m\u001b[0;34m=\u001b[0m\u001b[0;36m1\u001b[0m\u001b[0;34m,\u001b[0m \u001b[0mconvert\u001b[0m\u001b[0;34m=\u001b[0m\u001b[0;32mTrue\u001b[0m\u001b[0;34m)\u001b[0m\u001b[0;34m\u001b[0m\u001b[0m\n\u001b[1;32m   2179\u001b[0m \u001b[0;34m\u001b[0m\u001b[0m\n",
      "\u001b[0;32m~/anaconda3/envs/subnational-vaccines/lib/python3.6/site-packages/pandas/core/indexing.py\u001b[0m in \u001b[0;36m_convert_to_indexer\u001b[0;34m(self, obj, axis, is_setter)\u001b[0m\n\u001b[1;32m   1267\u001b[0m                 \u001b[0;32mif\u001b[0m \u001b[0mmask\u001b[0m\u001b[0;34m.\u001b[0m\u001b[0many\u001b[0m\u001b[0;34m(\u001b[0m\u001b[0;34m)\u001b[0m\u001b[0;34m:\u001b[0m\u001b[0;34m\u001b[0m\u001b[0m\n\u001b[1;32m   1268\u001b[0m                     raise KeyError('{mask} not in index'\n\u001b[0;32m-> 1269\u001b[0;31m                                    .format(mask=objarr[mask]))\n\u001b[0m\u001b[1;32m   1270\u001b[0m \u001b[0;34m\u001b[0m\u001b[0m\n\u001b[1;32m   1271\u001b[0m                 \u001b[0;32mreturn\u001b[0m \u001b[0m_values_from_object\u001b[0m\u001b[0;34m(\u001b[0m\u001b[0mindexer\u001b[0m\u001b[0;34m)\u001b[0m\u001b[0;34m\u001b[0m\u001b[0m\n",
      "\u001b[0;31mKeyError\u001b[0m: \"['Code' 'Country Name'] not in index\""
     ]
    }
   ],
   "source": [
    "import pandas as pd\n",
    "import numpy as np\n",
    "\n",
    "raw_df = pd.read_clipboard()\n",
    "\n",
    "new_df = pd.concat([raw_df[['Code', 'Country Name']], raw_df[['Code.1', 'Country Name.1']]])\n",
    "\n",
    "new_df['code'] = np.where(pd.isnull(new_df.Code),\n",
    "                       new_df['Code.1'],\n",
    "                       new_df.Code)\n",
    "\n",
    "new_df['country'] = np.where(pd.isnull(new_df['Country Name']),\n",
    "                       new_df['Country Name.1'],\n",
    "                       new_df['Country Name'])\n",
    "\n",
    "new_df.drop(['Code', 'Code.1', 'Country Name', 'Country Name.1'], axis=1, inplace=True)\n",
    "new_df"
   ]
  },
  {
   "cell_type": "code",
   "execution_count": null,
   "metadata": {},
   "outputs": [],
   "source": [
    "dhs_set = set(new_df.country.tolist())"
   ]
  },
  {
   "cell_type": "code",
   "execution_count": 48,
   "metadata": {},
   "outputs": [
    {
     "ename": "NameError",
     "evalue": "name 'dhs_set' is not defined",
     "output_type": "error",
     "traceback": [
      "\u001b[0;31m---------------------------------------------------------------------------\u001b[0m",
      "\u001b[0;31mNameError\u001b[0m                                 Traceback (most recent call last)",
      "\u001b[0;32m<ipython-input-48-15cc6b8823ae>\u001b[0m in \u001b[0;36m<module>\u001b[0;34m()\u001b[0m\n\u001b[0;32m----> 1\u001b[0;31m \u001b[0mlen\u001b[0m\u001b[0;34m(\u001b[0m\u001b[0mdhs_set\u001b[0m \u001b[0;34m&\u001b[0m \u001b[0mset\u001b[0m\u001b[0;34m(\u001b[0m\u001b[0mmics_countries\u001b[0m\u001b[0;34m)\u001b[0m\u001b[0;34m)\u001b[0m\u001b[0;34m\u001b[0m\u001b[0m\n\u001b[0m",
      "\u001b[0;31mNameError\u001b[0m: name 'dhs_set' is not defined"
     ]
    }
   ],
   "source": [
    "len(dhs_set & set(mics_countries))"
   ]
  },
  {
   "cell_type": "code",
   "execution_count": 49,
   "metadata": {},
   "outputs": [
    {
     "ename": "NameError",
     "evalue": "name 'dhs_set' is not defined",
     "output_type": "error",
     "traceback": [
      "\u001b[0;31m---------------------------------------------------------------------------\u001b[0m",
      "\u001b[0;31mNameError\u001b[0m                                 Traceback (most recent call last)",
      "\u001b[0;32m<ipython-input-49-b9e4ea96cf02>\u001b[0m in \u001b[0;36m<module>\u001b[0;34m()\u001b[0m\n\u001b[0;32m----> 1\u001b[0;31m \u001b[0mlen\u001b[0m\u001b[0;34m(\u001b[0m\u001b[0mdhs_set\u001b[0m \u001b[0;34m&\u001b[0m \u001b[0mset\u001b[0m\u001b[0;34m(\u001b[0m\u001b[0mhrsl_countries\u001b[0m\u001b[0;34m)\u001b[0m\u001b[0;34m)\u001b[0m\u001b[0;34m\u001b[0m\u001b[0m\n\u001b[0m",
      "\u001b[0;31mNameError\u001b[0m: name 'dhs_set' is not defined"
     ]
    }
   ],
   "source": [
    "len(dhs_set & set(hrsl_countries))"
   ]
  },
  {
   "cell_type": "code",
   "execution_count": 50,
   "metadata": {},
   "outputs": [],
   "source": [
    "dfs = pd.read_html(\"https://dhsprogram.com/data/available-datasets.cfm\", header=0)"
   ]
  },
  {
   "cell_type": "code",
   "execution_count": 51,
   "metadata": {},
   "outputs": [
    {
     "data": {
      "text/plain": [
       "'17'"
      ]
     },
     "execution_count": 51,
     "metadata": {},
     "output_type": "execute_result"
    }
   ],
   "source": [
    "hyphen_yr_re = re.compile(\"[0-9]{4}\\-([0-9]{2})\")\n",
    "yr_re = re.compile(\"[0-9]{4}\")\n",
    "    \n",
    "m = hyphen_yr_re.search(\"asdf 2016-17 (55)\")\n",
    "m.groups()[0]"
   ]
  },
  {
   "cell_type": "code",
   "execution_count": 52,
   "metadata": {
    "scrolled": false
   },
   "outputs": [],
   "source": [
    "import re\n",
    "\n",
    "def get_survey_year(s):\n",
    "    # remove footnotes\n",
    "    s = re.sub(\"\\([0-9]+\\)\", \"\", s)\n",
    "    \n",
    "    # get later year from hyphenated\n",
    "    hyphen_yr_re = re.compile(\"[0-9]{4}\\-([0-9]{2})\")\n",
    "    yr_re = re.compile(\"([0-9]{4})\")\n",
    "    \n",
    "    \n",
    "    if hyphen_yr_re.search(s):\n",
    "        re_match = hyphen_yr_re.search(s)\n",
    "        two_digit = re_match.groups()[0]\n",
    "        if int(two_digit) > 20:\n",
    "            return \"19\" + two_digit\n",
    "        else:\n",
    "            return \"20\" + two_digit\n",
    "    elif yr_re.search(s):\n",
    "        re_match = yr_re.search(s)\n",
    "        return re_match.groups()[0]\n",
    "    else:\n",
    "        print(\"No match \", s)\n",
    "        return \"None\"\n",
    "    \n",
    "\n",
    "\n",
    "dhs_surveys = pd.concat(dfs)\n",
    "\n",
    "\n",
    "dhs_surveys['year'] = dhs_surveys.Survey.apply(get_survey_year)"
   ]
  },
  {
   "cell_type": "code",
   "execution_count": 53,
   "metadata": {},
   "outputs": [
    {
     "data": {
      "text/html": [
       "<div>\n",
       "<style scoped>\n",
       "    .dataframe tbody tr th:only-of-type {\n",
       "        vertical-align: middle;\n",
       "    }\n",
       "\n",
       "    .dataframe tbody tr th {\n",
       "        vertical-align: top;\n",
       "    }\n",
       "\n",
       "    .dataframe thead th {\n",
       "        text-align: right;\n",
       "    }\n",
       "</style>\n",
       "<table border=\"1\" class=\"dataframe\">\n",
       "  <thead>\n",
       "    <tr style=\"text-align: right;\">\n",
       "      <th></th>\n",
       "      <th>Survey</th>\n",
       "      <th>Type</th>\n",
       "      <th>Phase</th>\n",
       "      <th>Recode</th>\n",
       "      <th>Survey Datasets</th>\n",
       "      <th>GPS Datasets</th>\n",
       "      <th>HIV/Other Biomarkers Datasets</th>\n",
       "      <th>SPA Datasets</th>\n",
       "      <th>year</th>\n",
       "    </tr>\n",
       "  </thead>\n",
       "  <tbody>\n",
       "    <tr>\n",
       "      <th>0</th>\n",
       "      <td>Afghanistan 2015</td>\n",
       "      <td>Standard DHS</td>\n",
       "      <td>DHS-VII</td>\n",
       "      <td>DHS-VII</td>\n",
       "      <td>Data Available</td>\n",
       "      <td>Not Yet Available</td>\n",
       "      <td>Not Collected</td>\n",
       "      <td>Not Applicable</td>\n",
       "      <td>2015</td>\n",
       "    </tr>\n",
       "    <tr>\n",
       "      <th>0</th>\n",
       "      <td>Angola 2015-16</td>\n",
       "      <td>Standard DHS</td>\n",
       "      <td>DHS-VII</td>\n",
       "      <td>DHS-VII</td>\n",
       "      <td>Data Available</td>\n",
       "      <td>Data Available</td>\n",
       "      <td>Data Available</td>\n",
       "      <td>Not Applicable</td>\n",
       "      <td>2016</td>\n",
       "    </tr>\n",
       "    <tr>\n",
       "      <th>0</th>\n",
       "      <td>Armenia 2015-16</td>\n",
       "      <td>Standard DHS</td>\n",
       "      <td>DHS-VII</td>\n",
       "      <td>DHS-VII</td>\n",
       "      <td>Data Available</td>\n",
       "      <td>Data Available</td>\n",
       "      <td>Not Collected</td>\n",
       "      <td>Not Applicable</td>\n",
       "      <td>2016</td>\n",
       "    </tr>\n",
       "    <tr>\n",
       "      <th>0</th>\n",
       "      <td>Chad 2014-15</td>\n",
       "      <td>Standard DHS</td>\n",
       "      <td>DHS-VII</td>\n",
       "      <td>DHS-VI</td>\n",
       "      <td>Data Available</td>\n",
       "      <td>Data Available</td>\n",
       "      <td>Data Available</td>\n",
       "      <td>Not Applicable</td>\n",
       "      <td>2015</td>\n",
       "    </tr>\n",
       "    <tr>\n",
       "      <th>0</th>\n",
       "      <td>Colombia 2015</td>\n",
       "      <td>Standard DHS</td>\n",
       "      <td>DHS-VII</td>\n",
       "      <td>DHS-VII</td>\n",
       "      <td>Data Available</td>\n",
       "      <td>Not Yet Available</td>\n",
       "      <td>Not Collected</td>\n",
       "      <td>Not Applicable</td>\n",
       "      <td>2015</td>\n",
       "    </tr>\n",
       "    <tr>\n",
       "      <th>0</th>\n",
       "      <td>Egypt 2015</td>\n",
       "      <td>Special</td>\n",
       "      <td>DHS-VII</td>\n",
       "      <td>--</td>\n",
       "      <td>Data Available</td>\n",
       "      <td>Not Distributed</td>\n",
       "      <td>Not Yet Available</td>\n",
       "      <td>Not Applicable</td>\n",
       "      <td>2015</td>\n",
       "    </tr>\n",
       "    <tr>\n",
       "      <th>0</th>\n",
       "      <td>Ethiopia 2016</td>\n",
       "      <td>Standard DHS</td>\n",
       "      <td>DHS-VII</td>\n",
       "      <td>DHS-VII</td>\n",
       "      <td>Data Available</td>\n",
       "      <td>Data Available</td>\n",
       "      <td>Data Available</td>\n",
       "      <td>Not Applicable</td>\n",
       "      <td>2016</td>\n",
       "    </tr>\n",
       "    <tr>\n",
       "      <th>0</th>\n",
       "      <td>Ghana 2016</td>\n",
       "      <td>MIS</td>\n",
       "      <td>DHS-VII</td>\n",
       "      <td>DHS-VII</td>\n",
       "      <td>Data Available</td>\n",
       "      <td>Data Available</td>\n",
       "      <td>Not Collected</td>\n",
       "      <td>Not Applicable</td>\n",
       "      <td>2016</td>\n",
       "    </tr>\n",
       "    <tr>\n",
       "      <th>0</th>\n",
       "      <td>Guatemala 2014-15 (22)</td>\n",
       "      <td>Standard DHS</td>\n",
       "      <td>DHS-VII</td>\n",
       "      <td>DHS-VI</td>\n",
       "      <td>Data Available</td>\n",
       "      <td>Data Available</td>\n",
       "      <td>Not Collected</td>\n",
       "      <td>Not Applicable</td>\n",
       "      <td>2015</td>\n",
       "    </tr>\n",
       "    <tr>\n",
       "      <th>0</th>\n",
       "      <td>India 2015-16</td>\n",
       "      <td>Standard DHS</td>\n",
       "      <td>DHS-VII</td>\n",
       "      <td>DHS-VI</td>\n",
       "      <td>Data Available</td>\n",
       "      <td>Data Available</td>\n",
       "      <td>Data Available</td>\n",
       "      <td>Not Applicable</td>\n",
       "      <td>2016</td>\n",
       "    </tr>\n",
       "    <tr>\n",
       "      <th>0</th>\n",
       "      <td>Kenya 2015</td>\n",
       "      <td>MIS</td>\n",
       "      <td>DHS-VII</td>\n",
       "      <td>DHS-VI</td>\n",
       "      <td>Data Available</td>\n",
       "      <td>Data Available</td>\n",
       "      <td>Not Collected</td>\n",
       "      <td>Not Applicable</td>\n",
       "      <td>2015</td>\n",
       "    </tr>\n",
       "    <tr>\n",
       "      <th>0</th>\n",
       "      <td>Liberia 2016</td>\n",
       "      <td>MIS</td>\n",
       "      <td>DHS-VII</td>\n",
       "      <td>DHS-VII</td>\n",
       "      <td>Data Available</td>\n",
       "      <td>Data Available</td>\n",
       "      <td>Not Collected</td>\n",
       "      <td>Not Applicable</td>\n",
       "      <td>2016</td>\n",
       "    </tr>\n",
       "    <tr>\n",
       "      <th>0</th>\n",
       "      <td>Madagascar 2016</td>\n",
       "      <td>MIS</td>\n",
       "      <td>DHS-VII</td>\n",
       "      <td>DHS-VII</td>\n",
       "      <td>Data Available</td>\n",
       "      <td>Data Available</td>\n",
       "      <td>Not Collected</td>\n",
       "      <td>Not Applicable</td>\n",
       "      <td>2016</td>\n",
       "    </tr>\n",
       "    <tr>\n",
       "      <th>0</th>\n",
       "      <td>Malawi 2015-16 (35)</td>\n",
       "      <td>Standard DHS</td>\n",
       "      <td>DHS-VII</td>\n",
       "      <td>DHS-VII</td>\n",
       "      <td>Data Available</td>\n",
       "      <td>Data Available</td>\n",
       "      <td>Data Available</td>\n",
       "      <td>Not Applicable</td>\n",
       "      <td>2016</td>\n",
       "    </tr>\n",
       "    <tr>\n",
       "      <th>0</th>\n",
       "      <td>Mali 2015</td>\n",
       "      <td>MIS</td>\n",
       "      <td>DHS-VII</td>\n",
       "      <td>DHS-VI</td>\n",
       "      <td>Data Available</td>\n",
       "      <td>Data Available</td>\n",
       "      <td>Not Collected</td>\n",
       "      <td>Not Applicable</td>\n",
       "      <td>2015</td>\n",
       "    </tr>\n",
       "    <tr>\n",
       "      <th>0</th>\n",
       "      <td>Myanmar 2015-16</td>\n",
       "      <td>Standard DHS</td>\n",
       "      <td>DHS-VII</td>\n",
       "      <td>DHS-VII</td>\n",
       "      <td>Data Available</td>\n",
       "      <td>Data Available</td>\n",
       "      <td>Not Collected</td>\n",
       "      <td>Not Applicable</td>\n",
       "      <td>2016</td>\n",
       "    </tr>\n",
       "    <tr>\n",
       "      <th>0</th>\n",
       "      <td>Nepal 2016</td>\n",
       "      <td>Standard DHS</td>\n",
       "      <td>DHS-VII</td>\n",
       "      <td>DHS-VII</td>\n",
       "      <td>Data Available</td>\n",
       "      <td>Data Available</td>\n",
       "      <td>Not Collected</td>\n",
       "      <td>Not Applicable</td>\n",
       "      <td>2016</td>\n",
       "    </tr>\n",
       "    <tr>\n",
       "      <th>0</th>\n",
       "      <td>Nigeria 2015</td>\n",
       "      <td>MIS</td>\n",
       "      <td>DHS-VII</td>\n",
       "      <td>DHS-VI</td>\n",
       "      <td>Data Available</td>\n",
       "      <td>Data Available</td>\n",
       "      <td>Not Collected</td>\n",
       "      <td>Not Applicable</td>\n",
       "      <td>2015</td>\n",
       "    </tr>\n",
       "    <tr>\n",
       "      <th>0</th>\n",
       "      <td>Rwanda 2014-15</td>\n",
       "      <td>Standard DHS</td>\n",
       "      <td>DHS-VII</td>\n",
       "      <td>DHS-VI</td>\n",
       "      <td>Data Available</td>\n",
       "      <td>Data Available</td>\n",
       "      <td>Data Available</td>\n",
       "      <td>Not Applicable</td>\n",
       "      <td>2015</td>\n",
       "    </tr>\n",
       "    <tr>\n",
       "      <th>1</th>\n",
       "      <td>Senegal 2016 (56)</td>\n",
       "      <td>Continuous DHS</td>\n",
       "      <td>DHS-VII</td>\n",
       "      <td>DHS-VI</td>\n",
       "      <td>Data Available</td>\n",
       "      <td>Data Available</td>\n",
       "      <td>Not Collected</td>\n",
       "      <td>Not Applicable</td>\n",
       "      <td>2016</td>\n",
       "    </tr>\n",
       "    <tr>\n",
       "      <th>2</th>\n",
       "      <td>Senegal 2015</td>\n",
       "      <td>Continuous DHS</td>\n",
       "      <td>DHS-VII</td>\n",
       "      <td>DHS-VI</td>\n",
       "      <td>Data Available</td>\n",
       "      <td>Data Available</td>\n",
       "      <td>Not Collected</td>\n",
       "      <td>Not Applicable</td>\n",
       "      <td>2015</td>\n",
       "    </tr>\n",
       "    <tr>\n",
       "      <th>0</th>\n",
       "      <td>Sierra Leone 2016</td>\n",
       "      <td>MIS</td>\n",
       "      <td>DHS-VII</td>\n",
       "      <td>DHS-VII</td>\n",
       "      <td>Data Available</td>\n",
       "      <td>Data Available</td>\n",
       "      <td>Not Collected</td>\n",
       "      <td>Not Applicable</td>\n",
       "      <td>2016</td>\n",
       "    </tr>\n",
       "    <tr>\n",
       "      <th>0</th>\n",
       "      <td>Tanzania 2015-16 (62)</td>\n",
       "      <td>Standard DHS</td>\n",
       "      <td>DHS-VII</td>\n",
       "      <td>DHS-VII</td>\n",
       "      <td>Data Available</td>\n",
       "      <td>Data Available</td>\n",
       "      <td>Not Collected</td>\n",
       "      <td>Not Applicable</td>\n",
       "      <td>2016</td>\n",
       "    </tr>\n",
       "    <tr>\n",
       "      <th>0</th>\n",
       "      <td>Uganda 2014-15</td>\n",
       "      <td>MIS</td>\n",
       "      <td>DHS-VII</td>\n",
       "      <td>DHS-VI</td>\n",
       "      <td>Data Available</td>\n",
       "      <td>Data Available</td>\n",
       "      <td>Not Collected</td>\n",
       "      <td>Not Applicable</td>\n",
       "      <td>2015</td>\n",
       "    </tr>\n",
       "    <tr>\n",
       "      <th>0</th>\n",
       "      <td>Zimbabwe 2015 (70)</td>\n",
       "      <td>Standard DHS</td>\n",
       "      <td>DHS-VII</td>\n",
       "      <td>DHS-VII</td>\n",
       "      <td>Data Available</td>\n",
       "      <td>Data Available</td>\n",
       "      <td>Data Available</td>\n",
       "      <td>Not Applicable</td>\n",
       "      <td>2015</td>\n",
       "    </tr>\n",
       "  </tbody>\n",
       "</table>\n",
       "</div>"
      ],
      "text/plain": [
       "                   Survey            Type    Phase   Recode Survey Datasets  \\\n",
       "0        Afghanistan 2015    Standard DHS  DHS-VII  DHS-VII  Data Available   \n",
       "0          Angola 2015-16    Standard DHS  DHS-VII  DHS-VII  Data Available   \n",
       "0         Armenia 2015-16    Standard DHS  DHS-VII  DHS-VII  Data Available   \n",
       "0            Chad 2014-15    Standard DHS  DHS-VII   DHS-VI  Data Available   \n",
       "0           Colombia 2015    Standard DHS  DHS-VII  DHS-VII  Data Available   \n",
       "0              Egypt 2015         Special  DHS-VII       --  Data Available   \n",
       "0           Ethiopia 2016    Standard DHS  DHS-VII  DHS-VII  Data Available   \n",
       "0              Ghana 2016             MIS  DHS-VII  DHS-VII  Data Available   \n",
       "0  Guatemala 2014-15 (22)    Standard DHS  DHS-VII   DHS-VI  Data Available   \n",
       "0           India 2015-16    Standard DHS  DHS-VII   DHS-VI  Data Available   \n",
       "0              Kenya 2015             MIS  DHS-VII   DHS-VI  Data Available   \n",
       "0            Liberia 2016             MIS  DHS-VII  DHS-VII  Data Available   \n",
       "0         Madagascar 2016             MIS  DHS-VII  DHS-VII  Data Available   \n",
       "0     Malawi 2015-16 (35)    Standard DHS  DHS-VII  DHS-VII  Data Available   \n",
       "0               Mali 2015             MIS  DHS-VII   DHS-VI  Data Available   \n",
       "0         Myanmar 2015-16    Standard DHS  DHS-VII  DHS-VII  Data Available   \n",
       "0              Nepal 2016    Standard DHS  DHS-VII  DHS-VII  Data Available   \n",
       "0            Nigeria 2015             MIS  DHS-VII   DHS-VI  Data Available   \n",
       "0          Rwanda 2014-15    Standard DHS  DHS-VII   DHS-VI  Data Available   \n",
       "1       Senegal 2016 (56)  Continuous DHS  DHS-VII   DHS-VI  Data Available   \n",
       "2            Senegal 2015  Continuous DHS  DHS-VII   DHS-VI  Data Available   \n",
       "0       Sierra Leone 2016             MIS  DHS-VII  DHS-VII  Data Available   \n",
       "0   Tanzania 2015-16 (62)    Standard DHS  DHS-VII  DHS-VII  Data Available   \n",
       "0          Uganda 2014-15             MIS  DHS-VII   DHS-VI  Data Available   \n",
       "0      Zimbabwe 2015 (70)    Standard DHS  DHS-VII  DHS-VII  Data Available   \n",
       "\n",
       "        GPS Datasets HIV/Other Biomarkers Datasets    SPA Datasets  year  \n",
       "0  Not Yet Available                 Not Collected  Not Applicable  2015  \n",
       "0     Data Available                Data Available  Not Applicable  2016  \n",
       "0     Data Available                 Not Collected  Not Applicable  2016  \n",
       "0     Data Available                Data Available  Not Applicable  2015  \n",
       "0  Not Yet Available                 Not Collected  Not Applicable  2015  \n",
       "0    Not Distributed             Not Yet Available  Not Applicable  2015  \n",
       "0     Data Available                Data Available  Not Applicable  2016  \n",
       "0     Data Available                 Not Collected  Not Applicable  2016  \n",
       "0     Data Available                 Not Collected  Not Applicable  2015  \n",
       "0     Data Available                Data Available  Not Applicable  2016  \n",
       "0     Data Available                 Not Collected  Not Applicable  2015  \n",
       "0     Data Available                 Not Collected  Not Applicable  2016  \n",
       "0     Data Available                 Not Collected  Not Applicable  2016  \n",
       "0     Data Available                Data Available  Not Applicable  2016  \n",
       "0     Data Available                 Not Collected  Not Applicable  2015  \n",
       "0     Data Available                 Not Collected  Not Applicable  2016  \n",
       "0     Data Available                 Not Collected  Not Applicable  2016  \n",
       "0     Data Available                 Not Collected  Not Applicable  2015  \n",
       "0     Data Available                Data Available  Not Applicable  2015  \n",
       "1     Data Available                 Not Collected  Not Applicable  2016  \n",
       "2     Data Available                 Not Collected  Not Applicable  2015  \n",
       "0     Data Available                 Not Collected  Not Applicable  2016  \n",
       "0     Data Available                 Not Collected  Not Applicable  2016  \n",
       "0     Data Available                 Not Collected  Not Applicable  2015  \n",
       "0     Data Available                Data Available  Not Applicable  2015  "
      ]
     },
     "execution_count": 53,
     "metadata": {},
     "output_type": "execute_result"
    }
   ],
   "source": [
    "dhs_surveys[(dhs_surveys.year >= \"2015\") & (dhs_surveys['Survey Datasets'] == 'Data Available')]"
   ]
  },
  {
   "cell_type": "code",
   "execution_count": 54,
   "metadata": {
    "scrolled": true
   },
   "outputs": [],
   "source": [
    "def get_survey_country(s):\n",
    "    c = re.split(\"[0-9\\(]\", s)[0].strip()\n",
    "    return c\n",
    "\n",
    "dhs_surveys['country'] = dhs_surveys.Survey.apply(get_survey_country)"
   ]
  },
  {
   "cell_type": "code",
   "execution_count": 55,
   "metadata": {},
   "outputs": [],
   "source": [
    "relevant = dhs_surveys[(dhs_surveys.year >= \"2015\") & (dhs_surveys['Survey Datasets'] == 'Data Available')]"
   ]
  },
  {
   "cell_type": "code",
   "execution_count": 56,
   "metadata": {},
   "outputs": [],
   "source": [
    "relevant_dhs_set = set(relevant.country.tolist())"
   ]
  },
  {
   "cell_type": "markdown",
   "metadata": {},
   "source": [
    "# Overlaps"
   ]
  },
  {
   "cell_type": "code",
   "execution_count": 57,
   "metadata": {},
   "outputs": [
    {
     "data": {
      "text/plain": [
       "{'Afghanistan',\n",
       " 'Angola',\n",
       " 'Armenia',\n",
       " 'Chad',\n",
       " 'Colombia',\n",
       " 'Egypt',\n",
       " 'Ethiopia',\n",
       " 'Ghana',\n",
       " 'Guatemala',\n",
       " 'India',\n",
       " 'Kenya',\n",
       " 'Liberia',\n",
       " 'Madagascar',\n",
       " 'Malawi',\n",
       " 'Mali',\n",
       " 'Myanmar',\n",
       " 'Nepal',\n",
       " 'Nigeria',\n",
       " 'Rwanda',\n",
       " 'Senegal',\n",
       " 'Sierra Leone',\n",
       " 'Tanzania',\n",
       " 'Uganda',\n",
       " 'Zimbabwe'}"
      ]
     },
     "execution_count": 57,
     "metadata": {},
     "output_type": "execute_result"
    }
   ],
   "source": [
    "relevant_dhs_set"
   ]
  },
  {
   "cell_type": "code",
   "execution_count": 58,
   "metadata": {},
   "outputs": [
    {
     "data": {
      "text/plain": [
       "{'Benin',\n",
       " 'Cameroon',\n",
       " 'Cuba',\n",
       " 'Dominican Republic',\n",
       " 'Egypt (Sub-national)',\n",
       " 'El Salvador',\n",
       " 'Guinea Bissau',\n",
       " 'Guyana',\n",
       " 'Kazakhstan',\n",
       " 'Kenya (Bungoma County)',\n",
       " 'Kenya (Kakamega County)',\n",
       " 'Kenya (Turkana County)',\n",
       " 'Kyrgyzstan',\n",
       " 'Malawi',\n",
       " 'Mali',\n",
       " 'Mexico',\n",
       " 'Mongolia',\n",
       " 'Nepal',\n",
       " 'Nigeria',\n",
       " 'Pakistan (Punjab)',\n",
       " 'Pakistan (Sindh)',\n",
       " 'Paraguay',\n",
       " 'Sao Tome and Principe',\n",
       " 'Serbia',\n",
       " 'Sudan',\n",
       " 'Swaziland',\n",
       " 'Turkmenistan',\n",
       " 'Viet Nam',\n",
       " 'Zimbabwe'}"
      ]
     },
     "execution_count": 58,
     "metadata": {},
     "output_type": "execute_result"
    }
   ],
   "source": [
    "mics_countries_set"
   ]
  },
  {
   "cell_type": "code",
   "execution_count": 61,
   "metadata": {},
   "outputs": [
    {
     "data": {
      "text/plain": [
       "{'',\n",
       " 'Algeria',\n",
       " 'Burkina Faso',\n",
       " 'Cambodia',\n",
       " 'Ghana',\n",
       " 'Haiti',\n",
       " 'Ivory Coast',\n",
       " 'Kenya',\n",
       " 'Madagascar',\n",
       " 'Malawi',\n",
       " 'Mexico',\n",
       " 'Mozambique',\n",
       " 'Puerto Rico',\n",
       " 'Rwanda',\n",
       " 'South Africa',\n",
       " 'Sri Lanka',\n",
       " 'Tanzania',\n",
       " 'Thailand',\n",
       " 'The Philippines',\n",
       " 'Uganda'}"
      ]
     },
     "execution_count": 61,
     "metadata": {},
     "output_type": "execute_result"
    }
   ],
   "source": [
    "hrsl_countries_set"
   ]
  },
  {
   "cell_type": "code",
   "execution_count": 60,
   "metadata": {},
   "outputs": [
    {
     "data": {
      "text/plain": [
       "{'Malawi', 'Mali', 'Nepal', 'Nigeria', 'Zimbabwe'}"
      ]
     },
     "execution_count": 60,
     "metadata": {},
     "output_type": "execute_result"
    }
   ],
   "source": [
    "mics_countries_set & relevant_dhs_set"
   ]
  },
  {
   "cell_type": "code",
   "execution_count": 62,
   "metadata": {},
   "outputs": [
    {
     "data": {
      "text/plain": [
       "{'Malawi', 'Mexico'}"
      ]
     },
     "execution_count": 62,
     "metadata": {},
     "output_type": "execute_result"
    }
   ],
   "source": [
    "mics_countries_set & hrsl_countries_set"
   ]
  },
  {
   "cell_type": "code",
   "execution_count": 63,
   "metadata": {},
   "outputs": [
    {
     "data": {
      "text/plain": [
       "{'Ghana', 'Kenya', 'Madagascar', 'Malawi', 'Rwanda', 'Tanzania', 'Uganda'}"
      ]
     },
     "execution_count": 63,
     "metadata": {},
     "output_type": "execute_result"
    }
   ],
   "source": [
    "relevant_dhs_set & hrsl_countries_set"
   ]
  },
  {
   "cell_type": "code",
   "execution_count": 64,
   "metadata": {},
   "outputs": [
    {
     "data": {
      "text/plain": [
       "{'Malawi'}"
      ]
     },
     "execution_count": 64,
     "metadata": {},
     "output_type": "execute_result"
    }
   ],
   "source": [
    "relevant_dhs_set & hrsl_countries_set & mics_countries_set"
   ]
  },
  {
   "cell_type": "code",
   "execution_count": null,
   "metadata": {},
   "outputs": [],
   "source": []
  }
 ],
 "metadata": {
  "kernelspec": {
   "display_name": "Python 3",
   "language": "python",
   "name": "python3"
  },
  "language_info": {
   "codemirror_mode": {
    "name": "ipython",
    "version": 3
   },
   "file_extension": ".py",
   "mimetype": "text/x-python",
   "name": "python",
   "nbconvert_exporter": "python",
   "pygments_lexer": "ipython3",
   "version": "3.6.4"
  }
 },
 "nbformat": 4,
 "nbformat_minor": 2
}
