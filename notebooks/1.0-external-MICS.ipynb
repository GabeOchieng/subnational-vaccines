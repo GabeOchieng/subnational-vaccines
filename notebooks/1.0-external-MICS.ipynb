{
 "cells": [
  {
   "cell_type": "code",
   "execution_count": 1,
   "metadata": {},
   "outputs": [],
   "source": [
    "%matplotlib inline\n",
    "\n",
    "from pathlib import Path\n",
    "import os\n",
    "\n",
    "import numpy as np\n",
    "import pandas as pd\n",
    "import matplotlib.pyplot as plt"
   ]
  },
  {
   "cell_type": "code",
   "execution_count": 2,
   "metadata": {},
   "outputs": [],
   "source": [
    "import sys\n",
    "sys.path.append(os.path.join(os.getcwd(), os.pardir, 'src'))\n",
    "\n",
    "%load_ext autoreload\n",
    "\n",
    "%autoreload 2\n",
    "from visualization.visualize import *"
   ]
  },
  {
   "cell_type": "markdown",
   "metadata": {},
   "source": [
    "# Load WHO Data"
   ]
  },
  {
   "cell_type": "code",
   "execution_count": 3,
   "metadata": {},
   "outputs": [
    {
     "data": {
      "text/html": [
       "<div>\n",
       "<style scoped>\n",
       "    .dataframe tbody tr th:only-of-type {\n",
       "        vertical-align: middle;\n",
       "    }\n",
       "\n",
       "    .dataframe tbody tr th {\n",
       "        vertical-align: top;\n",
       "    }\n",
       "\n",
       "    .dataframe thead th {\n",
       "        text-align: right;\n",
       "    }\n",
       "</style>\n",
       "<table border=\"1\" class=\"dataframe\">\n",
       "  <thead>\n",
       "    <tr style=\"text-align: right;\">\n",
       "      <th></th>\n",
       "      <th>Iso Code</th>\n",
       "      <th>Country Name</th>\n",
       "      <th>WHO Region</th>\n",
       "      <th>Year</th>\n",
       "      <th>Vaccine Type</th>\n",
       "      <th>Admin1</th>\n",
       "      <th>Admin2</th>\n",
       "      <th>DenomType</th>\n",
       "      <th>Denominator</th>\n",
       "      <th>Numerator</th>\n",
       "      <th>Coverage</th>\n",
       "      <th>recalc_numerator</th>\n",
       "      <th>available_admin</th>\n",
       "      <th>normalized_country</th>\n",
       "      <th>indicator</th>\n",
       "      <th>group</th>\n",
       "      <th>vaccine</th>\n",
       "      <th>timing</th>\n",
       "      <th>reported</th>\n",
       "    </tr>\n",
       "  </thead>\n",
       "  <tbody>\n",
       "    <tr>\n",
       "      <th>0</th>\n",
       "      <td>AFG</td>\n",
       "      <td>Afghanistan</td>\n",
       "      <td>EMRO</td>\n",
       "      <td>2016</td>\n",
       "      <td>BCG</td>\n",
       "      <td>NaN</td>\n",
       "      <td>Aab Band</td>\n",
       "      <td>1.0</td>\n",
       "      <td>1266.0</td>\n",
       "      <td>NaN</td>\n",
       "      <td>51.801245</td>\n",
       "      <td>655.803767</td>\n",
       "      <td>Aab Band</td>\n",
       "      <td>afghanistan</td>\n",
       "      <td>1</td>\n",
       "      <td>BCG</td>\n",
       "      <td>BCG</td>\n",
       "      <td>1st_birth</td>\n",
       "      <td>True</td>\n",
       "    </tr>\n",
       "    <tr>\n",
       "      <th>1</th>\n",
       "      <td>AFG</td>\n",
       "      <td>Afghanistan</td>\n",
       "      <td>EMRO</td>\n",
       "      <td>2016</td>\n",
       "      <td>BCG</td>\n",
       "      <td>NaN</td>\n",
       "      <td>Aab Kamari</td>\n",
       "      <td>1.0</td>\n",
       "      <td>4599.0</td>\n",
       "      <td>NaN</td>\n",
       "      <td>94.674670</td>\n",
       "      <td>4354.088093</td>\n",
       "      <td>Aab Kamari</td>\n",
       "      <td>afghanistan</td>\n",
       "      <td>1</td>\n",
       "      <td>BCG</td>\n",
       "      <td>BCG</td>\n",
       "      <td>1st_birth</td>\n",
       "      <td>True</td>\n",
       "    </tr>\n",
       "  </tbody>\n",
       "</table>\n",
       "</div>"
      ],
      "text/plain": [
       "  Iso Code Country Name WHO Region  Year Vaccine Type Admin1      Admin2  \\\n",
       "0      AFG  Afghanistan       EMRO  2016          BCG    NaN    Aab Band   \n",
       "1      AFG  Afghanistan       EMRO  2016          BCG    NaN  Aab Kamari   \n",
       "\n",
       "   DenomType  Denominator  Numerator   Coverage  recalc_numerator  \\\n",
       "0        1.0       1266.0        NaN  51.801245        655.803767   \n",
       "1        1.0       4599.0        NaN  94.674670       4354.088093   \n",
       "\n",
       "  available_admin normalized_country  indicator group vaccine     timing  \\\n",
       "0        Aab Band        afghanistan          1   BCG     BCG  1st_birth   \n",
       "1      Aab Kamari        afghanistan          1   BCG     BCG  1st_birth   \n",
       "\n",
       "   reported  \n",
       "0      True  \n",
       "1      True  "
      ]
     },
     "execution_count": 3,
     "metadata": {},
     "output_type": "execute_result"
    }
   ],
   "source": [
    "who_df = pd.read_csv(Path(\"../data/interim/calc_cols_added.csv\"), index_col=0)\n",
    "who_df.head(2)"
   ]
  },
  {
   "cell_type": "code",
   "execution_count": 4,
   "metadata": {
    "scrolled": false
   },
   "outputs": [],
   "source": [
    "# These countries appear in both the MICS and the WHO datasets\n",
    "overlaps = [\n",
    "    'Benin',\n",
    "    'Cameroon',\n",
    "    'Cuba',\n",
    "    'Dominican Republic',\n",
    "    'El Salvador',\n",
    "    'Guyana',\n",
    "    'Kazakhstan',\n",
    "    'Kyrgyzstan',\n",
    "    'Malawi',\n",
    "    'Mali',\n",
    "    'Mexico',\n",
    "    'Nepal',\n",
    "    'Paraguay',\n",
    "    'Sudan',\n",
    "    'Swaziland',\n",
    "    'Turkmenistan',\n",
    "    'Zimbabwe',\n",
    "]\n",
    "\n",
    "# some MICS regions are just subsets of a country, so we\n",
    "# can only analyze the ones that appear in both datasets\n",
    "partial_matches = {\n",
    "    'Kenya (Bungoma County)': 'Kenya',\n",
    "    'Kenya (Kakamega County)': 'Kenya',\n",
    "    'Kenya (Turkana County)': 'Kenya',\n",
    "    'Pakistan (Punjab)': 'Pakistan',\n",
    "    'Pakistan (Sindh)': 'Pakistan',\n",
    "}\n",
    "\n",
    "# Some MICS countries have their names written differently\n",
    "# Thus maps the MICS version as the key to the WHO version\n",
    "# as the value\n",
    "overlap_map = {\n",
    "    'Guinea Bissau': 'Guinea-Bissau',\n",
    "    'Sao Tome and Principe': 'Sao Tome & Principe',\n",
    "}\n",
    "\n",
    "all_mics_overlaps = list(overlap_map.keys()) + list(partial_matches.keys()) + overlaps"
   ]
  },
  {
   "cell_type": "markdown",
   "metadata": {},
   "source": [
    "# Load MICS Survey data"
   ]
  },
  {
   "cell_type": "code",
   "execution_count": 5,
   "metadata": {
    "scrolled": false
   },
   "outputs": [
    {
     "name": "stderr",
     "output_type": "stream",
     "text": [
      "/Users/bull/anaconda3/envs/subnational-vaccines/lib/python3.6/site-packages/IPython/core/interactiveshell.py:2728: DtypeWarning: Columns (14,21,30,32,35,37,45,57,77,79,82,98,101,103,104,106,145,149,153,174,175,176,177,178,180,181,182,183,184,185,186,187,188,189,199,200,201,203,204,205,206,208,219,220,221,222,223,224,225,226,227,228,230,231,232,238,239,240,241,246,249,266,267,268,270,281,291,300) have mixed types. Specify dtype option on import or set low_memory=False.\n",
      "  interactivity=interactivity, compiler=compiler, result=result)\n",
      "/Users/bull/anaconda3/envs/subnational-vaccines/lib/python3.6/site-packages/IPython/core/interactiveshell.py:2728: DtypeWarning: Columns (245,253,254,255,265,289,345) have mixed types. Specify dtype option on import or set low_memory=False.\n",
      "  interactivity=interactivity, compiler=compiler, result=result)\n",
      "/Users/bull/anaconda3/envs/subnational-vaccines/lib/python3.6/site-packages/IPython/core/interactiveshell.py:2728: DtypeWarning: Columns (15,16,17,18,78,81,99,100,101,105,106,107,144,146,149,150,151,154,170,174,175,186,187,188,189,191,192,194,195,196,205,212,224,242,248,280,300) have mixed types. Specify dtype option on import or set low_memory=False.\n",
      "  interactivity=interactivity, compiler=compiler, result=result)\n",
      "/Users/bull/anaconda3/envs/subnational-vaccines/lib/python3.6/site-packages/IPython/core/interactiveshell.py:2728: DtypeWarning: Columns (78,80,83,153,155,157,159,172,174,175,176,177,178,181,182,184,192,196,197,198,212,214,215,216,217,218,221,227,245,277,285) have mixed types. Specify dtype option on import or set low_memory=False.\n",
      "  interactivity=interactivity, compiler=compiler, result=result)\n",
      "/Users/bull/anaconda3/envs/subnational-vaccines/lib/python3.6/site-packages/IPython/core/interactiveshell.py:2728: DtypeWarning: Columns (15,16,85,134,153,155,156,158,159,162,163,176,178,190,193,198,200,202,203,204,205,207,208,209,210,211,216,217) have mixed types. Specify dtype option on import or set low_memory=False.\n",
      "  interactivity=interactivity, compiler=compiler, result=result)\n",
      "/Users/bull/anaconda3/envs/subnational-vaccines/lib/python3.6/site-packages/IPython/core/interactiveshell.py:2728: DtypeWarning: Columns (15,16,17,18,166,167,171,173,174,177,186,190,192,220,221,222,224,228,229,238,272) have mixed types. Specify dtype option on import or set low_memory=False.\n",
      "  interactivity=interactivity, compiler=compiler, result=result)\n",
      "/Users/bull/anaconda3/envs/subnational-vaccines/lib/python3.6/site-packages/IPython/core/interactiveshell.py:2728: DtypeWarning: Columns (166,173,260,265,272,289,291,292,303,304,305,306,310,312,313) have mixed types. Specify dtype option on import or set low_memory=False.\n",
      "  interactivity=interactivity, compiler=compiler, result=result)\n",
      "/Users/bull/anaconda3/envs/subnational-vaccines/lib/python3.6/site-packages/IPython/core/interactiveshell.py:2728: DtypeWarning: Columns (15,16,19,20,25,38,41,170,174,176,190,281) have mixed types. Specify dtype option on import or set low_memory=False.\n",
      "  interactivity=interactivity, compiler=compiler, result=result)\n",
      "/Users/bull/anaconda3/envs/subnational-vaccines/lib/python3.6/site-packages/IPython/core/interactiveshell.py:2728: DtypeWarning: Columns (15,16,21,147,149,219,220,224,226,237,241,254,255,259,261,266,267,268,283,313,317,322) have mixed types. Specify dtype option on import or set low_memory=False.\n",
      "  interactivity=interactivity, compiler=compiler, result=result)\n",
      "/Users/bull/anaconda3/envs/subnational-vaccines/lib/python3.6/site-packages/IPython/core/interactiveshell.py:2728: DtypeWarning: Columns (17,18,20,88,161,165,182,190,202,204,209,211,214,215,216,223,224,236,248) have mixed types. Specify dtype option on import or set low_memory=False.\n",
      "  interactivity=interactivity, compiler=compiler, result=result)\n",
      "/Users/bull/anaconda3/envs/subnational-vaccines/lib/python3.6/site-packages/IPython/core/interactiveshell.py:2728: DtypeWarning: Columns (23,127,147,148,149) have mixed types. Specify dtype option on import or set low_memory=False.\n",
      "  interactivity=interactivity, compiler=compiler, result=result)\n",
      "/Users/bull/anaconda3/envs/subnational-vaccines/lib/python3.6/site-packages/IPython/core/interactiveshell.py:2728: DtypeWarning: Columns (19,24,30,31,32,45,60,65,92,95,113,114,115,117,118,120,121,123,124,126,127,129,130,132,133,135,136,138,139,141,142,144,145,147,148,150,151,153,154,156,157,159,160,162,163,165,166,172,174,176,178,190,191,194,195,196,198,199,200,201,203,204,210,214,217,218,219,220,222,223,230,231,233,234,235,236,237,238,239,241,243,244,246,247,248,249,250,251,252,254,256,257,258,259,260,268,270,276,277,278,280,289,306,324) have mixed types. Specify dtype option on import or set low_memory=False.\n",
      "  interactivity=interactivity, compiler=compiler, result=result)\n",
      "/Users/bull/anaconda3/envs/subnational-vaccines/lib/python3.6/site-packages/IPython/core/interactiveshell.py:2728: DtypeWarning: Columns (18,34,39,44,49,54,59,64,113,121,124,127,130,133,136,139,142,145,148,151,154,157,160,163,166,169,180,209,210,211,212,213,214,216,217,221,234,238,240,243,253,254,255,259,264,265,280,298,300) have mixed types. Specify dtype option on import or set low_memory=False.\n",
      "  interactivity=interactivity, compiler=compiler, result=result)\n",
      "/Users/bull/anaconda3/envs/subnational-vaccines/lib/python3.6/site-packages/IPython/core/interactiveshell.py:2728: DtypeWarning: Columns (149,150,160,161,180,222,228,231,232,233,234,235,237,259,260,263,277,278,284,299) have mixed types. Specify dtype option on import or set low_memory=False.\n",
      "  interactivity=interactivity, compiler=compiler, result=result)\n",
      "/Users/bull/anaconda3/envs/subnational-vaccines/lib/python3.6/site-packages/IPython/core/interactiveshell.py:2728: DtypeWarning: Columns (15,16,17,18,19,34,48,52,54,76,78,84,101,116,117,118,119,120,121,122,123,124,125,126,127,128,130,131,132,133,137,138,139,151,152,153,154,155,157,158,159,160,166,167,169,170,171,175,176,178,184,186,187,192,193,200,201,203,204,205,206,207,208,209,210,212,214,215,216,217,218,223,224,225,226,228,229,233,235,247,248,249,250,251,261,262,263,266,290) have mixed types. Specify dtype option on import or set low_memory=False.\n",
      "  interactivity=interactivity, compiler=compiler, result=result)\n",
      "/Users/bull/anaconda3/envs/subnational-vaccines/lib/python3.6/site-packages/IPython/core/interactiveshell.py:2728: DtypeWarning: Columns (21,22,192,194,196,198,203,217,218,219,224,225,227,228,237,241,242,243,254,255,261,262,264,265,272,275,281,297) have mixed types. Specify dtype option on import or set low_memory=False.\n",
      "  interactivity=interactivity, compiler=compiler, result=result)\n",
      "/Users/bull/anaconda3/envs/subnational-vaccines/lib/python3.6/site-packages/IPython/core/interactiveshell.py:2728: DtypeWarning: Columns (21,28,30,31,32,33,34,35,36,37,38,42,43,44,46,65,71,147,152,178,179,184,187,199,213,220,222,223,224,240,252,266) have mixed types. Specify dtype option on import or set low_memory=False.\n",
      "  interactivity=interactivity, compiler=compiler, result=result)\n",
      "/Users/bull/anaconda3/envs/subnational-vaccines/lib/python3.6/site-packages/IPython/core/interactiveshell.py:2728: DtypeWarning: Columns (15,16,17,18,20,21,76,78,81,136,138,149,150,151,152,153,157,158,159,160,162,174,176,177,180,189,190,191,192,193,197,198,199,200,202,204,205,206,207,208,209,213,218,219,223,225,237,251,262,266) have mixed types. Specify dtype option on import or set low_memory=False.\n",
      "  interactivity=interactivity, compiler=compiler, result=result)\n",
      "/Users/bull/anaconda3/envs/subnational-vaccines/lib/python3.6/site-packages/IPython/core/interactiveshell.py:2728: DtypeWarning: Columns (16,18,31,32,33,34,35,36,37,38,39,40,41,54,57,59,62,64,67,69,72,74,77,79,125,129,157,164,165,167,169,170,172,173,175,179,180,182,183,185,188,189,191,192,193,194,198,200,201,202,203,204,205,206,207,209,210,212,213,215,216,218,219,221,222,224,225,227,228,230,231,233,234,236,237,239,240,246,248,250,252,254,256,265,266,267,268,269,270,271,273,274,276,277,291,292,293,294,295,296,297,298,299,300,301,307,308,309,310,311,313,315,316,317,318,319,320,323,325,326,327,328,329,331,335,336,337,339,342,345,346,348,349,359,360,361,364,365,366,379,380,381,382,383,393) have mixed types. Specify dtype option on import or set low_memory=False.\n",
      "  interactivity=interactivity, compiler=compiler, result=result)\n"
     ]
    },
    {
     "name": "stderr",
     "output_type": "stream",
     "text": [
      "/Users/bull/anaconda3/envs/subnational-vaccines/lib/python3.6/site-packages/IPython/core/interactiveshell.py:2728: DtypeWarning: Columns (15,16,17,18,78,81,145,152,174,177,179,181,185,187,203,205,206,207,219,226,230,232,286,314,316) have mixed types. Specify dtype option on import or set low_memory=False.\n",
      "  interactivity=interactivity, compiler=compiler, result=result)\n",
      "/Users/bull/anaconda3/envs/subnational-vaccines/lib/python3.6/site-packages/IPython/core/interactiveshell.py:2728: DtypeWarning: Columns (19,25,103,104,105,106,107,108,176,178,183,197,198,199,202,213,214,217,229,231,233,235,240,251,253,279) have mixed types. Specify dtype option on import or set low_memory=False.\n",
      "  interactivity=interactivity, compiler=compiler, result=result)\n",
      "/Users/bull/anaconda3/envs/subnational-vaccines/lib/python3.6/site-packages/IPython/core/interactiveshell.py:2728: DtypeWarning: Columns (15,16,17,18,19,101,102,103,170,181,193,200,264,290) have mixed types. Specify dtype option on import or set low_memory=False.\n",
      "  interactivity=interactivity, compiler=compiler, result=result)\n",
      "/Users/bull/anaconda3/envs/subnational-vaccines/lib/python3.6/site-packages/IPython/core/interactiveshell.py:2728: DtypeWarning: Columns (20,81,148,150,153,166,167,168,176,190,192,210,214,230,262) have mixed types. Specify dtype option on import or set low_memory=False.\n",
      "  interactivity=interactivity, compiler=compiler, result=result)\n",
      "/Users/bull/anaconda3/envs/subnational-vaccines/lib/python3.6/site-packages/IPython/core/interactiveshell.py:2728: DtypeWarning: Columns (15,16,17,18,21,76,78,81,155,156,157,159,162,163,173,175,177,178,191,192,193,194,195,196,198,200,202,205,211,262) have mixed types. Specify dtype option on import or set low_memory=False.\n",
      "  interactivity=interactivity, compiler=compiler, result=result)\n",
      "/Users/bull/anaconda3/envs/subnational-vaccines/lib/python3.6/site-packages/IPython/core/interactiveshell.py:2728: DtypeWarning: Columns (35,40,45,50,55,60,105,108,144,165,166,191,194,196,212,219,234,257,269,323,341) have mixed types. Specify dtype option on import or set low_memory=False.\n",
      "  interactivity=interactivity, compiler=compiler, result=result)\n",
      "/Users/bull/anaconda3/envs/subnational-vaccines/lib/python3.6/site-packages/IPython/core/interactiveshell.py:2728: DtypeWarning: Columns (35,40,45,50,55,60,75,80,85,90,95,100,105,110,115,145,150,153,156,159,162,165,168,171,174,177,180,183,186,189,192,195,198,201,204,207,210,213,241,243,245,247,248,264,266,268,269,270,271,274,283,284,289,292,295,309,337) have mixed types. Specify dtype option on import or set low_memory=False.\n",
      "  interactivity=interactivity, compiler=compiler, result=result)\n"
     ]
    }
   ],
   "source": [
    "childrens_surveys = dict()\n",
    "\n",
    "for f in Path(\"../data/interim/MICS\").iterdir():\n",
    "    if f.name.startswith('.'):\n",
    "        continue\n",
    "    elif not f.is_dir():\n",
    "        continue\n",
    "    childrens_surveys[f.stem] = pd.read_csv(f/'ch.csv', index_col=0)"
   ]
  },
  {
   "cell_type": "markdown",
   "metadata": {},
   "source": [
    "### Upsample surveys based on child weights to get representative child counts"
   ]
  },
  {
   "cell_type": "code",
   "execution_count": 6,
   "metadata": {
    "scrolled": false
   },
   "outputs": [],
   "source": [
    "childrens_surveys_upsampled = dict()\n",
    "for country, df in childrens_surveys.items():\n",
    "    rng = np.random.RandomState(12345)\n",
    "    \n",
    "    w_col = 'chweight' if 'chweight' in df.columns else 'CHWEIGHT'\n",
    "    \n",
    "    smpl = rng.choice(df.index, 100000, p=df[w_col] / df[w_col].sum())\n",
    "    childrens_surveys_upsampled[country] = df.loc[smpl, :]"
   ]
  },
  {
   "cell_type": "code",
   "execution_count": 7,
   "metadata": {},
   "outputs": [],
   "source": [
    "relevant_vars = [\n",
    "    # When conducted\n",
    "    'UF8Y',\n",
    "    \n",
    "    # Where conducted (urban/rural)\n",
    "    'HH6',\n",
    "    'HH7',\n",
    "    \n",
    "    # Child Age\n",
    "    'AG2',\n",
    "    'CAGE',\n",
    "    'AG1Y',\n",
    "]"
   ]
  },
  {
   "cell_type": "code",
   "execution_count": 8,
   "metadata": {},
   "outputs": [
    {
     "name": "stderr",
     "output_type": "stream",
     "text": [
      "/Users/bull/anaconda3/envs/subnational-vaccines/lib/python3.6/site-packages/ipykernel_launcher.py:6: SettingWithCopyWarning: \n",
      "A value is trying to be set on a copy of a slice from a DataFrame.\n",
      "Try using .loc[row_indexer,col_indexer] = value instead\n",
      "\n",
      "See the caveats in the documentation: http://pandas.pydata.org/pandas-docs/stable/indexing.html#indexing-view-versus-copy\n",
      "  \n"
     ]
    }
   ],
   "source": [
    "subsetted_dfs = []\n",
    "for c in all_mics_overlaps:\n",
    "    df = childrens_surveys_upsampled[c]\n",
    "    im_vars = [c for c in df.columns if c.startswith('IM')]\n",
    "    \n",
    "    df['country'] = c\n",
    "    subsetted_dfs.append(df[['country'] + im_vars + relevant_vars].copy())"
   ]
  },
  {
   "cell_type": "code",
   "execution_count": 9,
   "metadata": {},
   "outputs": [],
   "source": [
    "all_mics_children_data = pd.concat(subsetted_dfs)"
   ]
  },
  {
   "cell_type": "code",
   "execution_count": 10,
   "metadata": {},
   "outputs": [],
   "source": [
    "subsetted_dfs = []\n",
    "for c in all_mics_overlaps:\n",
    "    df = childrens_surveys[c]\n",
    "    im_vars = [c for c in df.columns if c.startswith('IM')]\n",
    "    \n",
    "    df['country'] = c\n",
    "    subsetted_dfs.append(df[['country'] + im_vars + relevant_vars].copy())\n",
    "\n",
    "raw_mics_children_data = pd.concat(subsetted_dfs)"
   ]
  },
  {
   "cell_type": "code",
   "execution_count": null,
   "metadata": {},
   "outputs": [],
   "source": [
    "# nepal is in nepalese years...\n",
    "all_mics_children_data.replace({'UF8Y': {2070.: 2013., 2071.: 2014.}}, inplace=True)\n",
    "raw_mics_children_data.replace({'UF8Y': {2070.: 2013., 2071.: 2014.}}, inplace=True)"
   ]
  },
  {
   "cell_type": "code",
   "execution_count": null,
   "metadata": {},
   "outputs": [],
   "source": [
    "# just include surveys done in at least 2014\n",
    "min_year = all_mics_children_data.groupby('country').UF8Y.min()\n",
    "to_include = min_year[min_year >= 2014].index.tolist()\n",
    "\n",
    "mics_children_data_who_countries = all_mics_children_data[all_mics_children_data.country.isin(to_include)]\n",
    "raw_mics_children_data_who_countries = raw_mics_children_data[raw_mics_children_data.country.isin(to_include)]\n",
    "\n",
    "print(mics_children_data_who_countries.shape)\n",
    "mics_children_data_who_countries.dropna(how='all', axis=1, inplace=True)\n",
    "raw_mics_children_data_who_countries = raw_mics_children_data_who_countries[mics_children_data_who_countries.columns]\n",
    "print(mics_children_data_who_countries.shape)"
   ]
  },
  {
   "cell_type": "code",
   "execution_count": null,
   "metadata": {},
   "outputs": [],
   "source": [
    "country_year_map = mics_children_data_who_countries.groupby('country').UF8Y.max().to_dict()\n",
    "\n",
    "mics_children_data_who_countries['survey_year'] = mics_children_data_who_countries.country.replace(country_year_map)\n",
    "raw_mics_children_data_who_countries['survey_year'] = \\\n",
    "    raw_mics_children_data_who_countries.country.replace(country_year_map)"
   ]
  },
  {
   "cell_type": "code",
   "execution_count": null,
   "metadata": {},
   "outputs": [],
   "source": [
    "from collections import namedtuple\n",
    "\n",
    "Vax = namedtuple('Vax',\n",
    "                 ['name',           # Group name\n",
    "                  'doses_dict',     # map standard WHO dose names to year columns\n",
    "                  'ever_col',       # yes/no for vax ever given \n",
    "                  'ever_col_year']) # year for vax ever given\n",
    "\n",
    "vaxes = [\n",
    "    Vax(name='BCG',\n",
    "        doses_dict={'BCG': ['IM3BY']},\n",
    "        ever_col=['IM7'],\n",
    "        ever_col_year=[]),\n",
    "    \n",
    "    # DTP or Penta\n",
    "    Vax(name='DTP',\n",
    "        doses_dict={'DTP1': ['IM3D1Y', 'IM3PV1Y'],\n",
    "                    'DTP2': ['IM3D2Y', 'IM3PV2Y'],\n",
    "                    'DTP3': ['IM3D3Y', 'IM3PV3Y'],\n",
    "                    'DTP4': ['IM3D4Y', 'IM3PV4Y']},\n",
    "        ever_col=['IM17', 'IM17A', 'IM11', 'IM10A', 'IM11A'],\n",
    "        ever_col_year=[]),\n",
    "    \n",
    "    Vax(name='Measles',\n",
    "        doses_dict={'MCV1': ['IM3M1Y'],\n",
    "                    'MCV2': ['IM3M2Y']},\n",
    "        ever_col=['IM16'],\n",
    "        ever_col_year=['IM3MY']),\n",
    "    \n",
    "# polio\n",
    "# flu/Hib\n",
    "# hepb\n",
    "# pneumo / PCV\n",
    "]"
   ]
  },
  {
   "cell_type": "code",
   "execution_count": null,
   "metadata": {
    "scrolled": false
   },
   "outputs": [],
   "source": [
    "# Harmonize \"ever\" questions:\n",
    "ever_harmonize_map = {\n",
    "    # yes\n",
    "    'First two weeks': 1.0,\n",
    "    'First eight weeks': 1.0,\n",
    "    'Dans les 2 premières semaines': 1.0,\n",
    "    'Later': 1.0,\n",
    "    'Plus tard': 1.0,\n",
    "    'Sim': 1.0,\n",
    "    'Si': 1.0,\n",
    "    'Sí': 1.0,\n",
    "    'Oui': 1.0,\n",
    "    'Yes': 1.0,\n",
    "    '1.0': 1.0,\n",
    "    '2.0': 1.0,\n",
    "    '3.0': 1.0,\n",
    "    '4.0': 1.0,\n",
    "    '5.0': 1.0,\n",
    "    '6.0': 1.0,\n",
    "     2.0: 1.0,\n",
    "     3.0: 1.0,\n",
    "     4.0: 1.0,\n",
    "     '2009.0': 1.0,\n",
    "     '2010.0': 1.0,\n",
    "     '2011.0': 1.0,\n",
    "     '2012.0': 1.0,\n",
    "     '2013.0': 1.0,\n",
    "     '2014.0': 1.0,\n",
    "     '2015.0': 1.0,\n",
    "     '2016.0': 1.0,\n",
    "     2013.0: 1.0,\n",
    "     2014.0: 1.0,\n",
    "     2015.0: 1.0,\n",
    "     2016.0: 1.0,  \n",
    "    'Dans carte de vaccination': 1.0,\n",
    "    'Déclaration de la mère': 1.0,\n",
    "    'Madre reportada': 1.0,\n",
    "    'Reporte de la madre': 1.0,\n",
    "    'Réponse de la mère': 1.0,\n",
    "    'Marcada en la tarjeta': 1.0,\n",
    "    'Marcada sobre la tarjeta': 1.0,\n",
    "    'Marked on card': 1.0,\n",
    "    'Marqué sur le carnet': 1.0,\n",
    "    'Mother reported': 1.0,\n",
    "    \n",
    "    # no\n",
    "    'Non': 0.0,\n",
    "    'NÃ£o': 0.0,\n",
    "    'No': 0.0,\n",
    "    'No aplicada': 0.0,\n",
    "    'No vacunado': 0.0,\n",
    "    'Pas reçue/pas vue dans le carnet': 0.0,\n",
    "    \n",
    "    # don't know\n",
    "    'DK': np.nan,\n",
    "    'Manquant': np.nan,\n",
    "    'Non déclaré/Pas de réponse': np.nan,\n",
    "    'Ne sait pas': np.nan,\n",
    "    'Missing': np.nan,\n",
    "    'Em falta': np.nan,\n",
    "    'Incohérent': np.nan,\n",
    "    'Inconsistent': np.nan,\n",
    "    'Inconsistente': np.nan,\n",
    "    'NS': np.nan,\n",
    "    'NSP': np.nan,\n",
    "    'No dada': np.nan,\n",
    "    'No sabe': np.nan,\n",
    "    'Not given': np.nan,\n",
    "    'NÃ£o Sabe': np.nan,\n",
    "    'Omitido': np.nan,\n",
    "    'Pas donné': np.nan,\n",
    "}"
   ]
  },
  {
   "cell_type": "code",
   "execution_count": null,
   "metadata": {},
   "outputs": [],
   "source": [
    "vaxed_data = mics_children_data_who_countries.copy()\n",
    "raw_vaxed_data = raw_mics_children_data_who_countries.copy()"
   ]
  },
  {
   "cell_type": "markdown",
   "metadata": {},
   "source": [
    "## All one year olds"
   ]
  },
  {
   "cell_type": "code",
   "execution_count": null,
   "metadata": {},
   "outputs": [],
   "source": [
    "MIN_AGE = 0\n",
    "MAX_AGE = 24\n",
    "\n",
    "# calc denominator\n",
    "vaxed_data[f\"denom\"] = (vaxed_data.CAGE >= MIN_AGE) & (vaxed_data.CAGE <= MAX_AGE)\n",
    "raw_vaxed_data[f\"denom\"] = (raw_vaxed_data.CAGE >= MIN_AGE) & (raw_vaxed_data.CAGE <= MAX_AGE)\n",
    "\n",
    "vaxed_data = vaxed_data[vaxed_data.denom]\n",
    "raw_vaxed_data = raw_vaxed_data[raw_vaxed_data.denom]"
   ]
  },
  {
   "cell_type": "code",
   "execution_count": null,
   "metadata": {},
   "outputs": [],
   "source": [
    "vaxed_data"
   ]
  },
  {
   "cell_type": "code",
   "execution_count": null,
   "metadata": {},
   "outputs": [],
   "source": [
    "all_cols_added = [\"denom\"]\n",
    "\n",
    "def get_ever_based_on_any_dose(dd, ever, ever_yr, ca):\n",
    "    return (((dd[ca] == 1.0).any(axis=1) |    # any dose that we added\n",
    "             (dd[ever_yr].replace(ever_harmonize_map) == 1).any(axis=1) | # any dose marked with year\n",
    "             (dd[ever].replace(ever_harmonize_map) == 1).any(axis=1)) & # any dose recall\n",
    "             dd[f\"denom\"])\n",
    "    \n",
    "#     return (((vaxed_data[cols_added] == 1.0).any(axis=1) |    # any\n",
    "#               pd.notnull(vaxed_data[v.ever_col_year]).any(axis=1) | \n",
    "#               (vaxed_data[v.ever_col].replace(ever_harmonize_map) == 1.0).any(axis=1)) &\n",
    "#              vaxed_data[f\"denom\"])\n",
    "\n",
    "for v in vaxes:\n",
    "\n",
    "    cols_added = []\n",
    "\n",
    "    print(v.name)\n",
    "\n",
    "    # track individual doses\n",
    "    for dose_name, dose_cols in v.doses_dict.items():\n",
    "\n",
    "        print(dose_name)\n",
    "        new_col = f\"mics_{dose_name}\"\n",
    "        vaxed_data[new_col] = pd.notnull(vaxed_data[dose_cols]).any(axis=1) & vaxed_data[f\"denom\"]\n",
    "        raw_vaxed_data[new_col] = pd.notnull(raw_vaxed_data[dose_cols]).any(axis=1) & raw_vaxed_data[f\"denom\"]\n",
    "\n",
    "        cols_added.append(new_col)\n",
    "\n",
    "    # track ever based on ever_col or individual doses\n",
    "    new_col = f\"mics_{v.name}_any_dose\"    \n",
    "    vaxed_data[new_col] = get_ever_based_on_any_dose(vaxed_data, v.ever_col, v.ever_col_year, cols_added)    \n",
    "    raw_vaxed_data[new_col] = get_ever_based_on_any_dose(raw_vaxed_data, v.ever_col, v.ever_col_year, cols_added)\n",
    "\n",
    "    all_cols_added += cols_added + [new_col]"
   ]
  },
  {
   "cell_type": "markdown",
   "metadata": {},
   "source": [
    "#### Deprecated per-year calculations (too few children)"
   ]
  },
  {
   "cell_type": "code",
   "execution_count": null,
   "metadata": {},
   "outputs": [],
   "source": [
    "# all_cols_added = dict()\n",
    "\n",
    "# for ix, yr in enumerate(list(range(2016, 2013, -1))):\n",
    "    \n",
    "#     all_cols_added[yr] = [f\"denom_{yr}\"]\n",
    "    \n",
    "#     # calc denominator\n",
    "#     vaxed_data[f\"denom_{yr}\"] = vaxed_data.AG1Y == yr\n",
    "#     raw_vaxed_data[f\"denom_{yr}\"] = raw_vaxed_data.AG1Y == yr\n",
    "\n",
    "#     for v in vaxes:\n",
    "        \n",
    "#         cols_added = []\n",
    "        \n",
    "#         print(v.name)\n",
    "        \n",
    "#         # track individual doses\n",
    "#         for dose_name, dose_cols in v.doses_dict.items():\n",
    "#             print(dose_name)\n",
    "            \n",
    "#             new_col = f\"{dose_name}_{yr}\"\n",
    "#             vaxed_data[new_col] = (vaxed_data[dose_cols] == yr).any(axis=1) & vaxed_data[f\"denom_{yr}\"]\n",
    "#             raw_vaxed_data[new_col] = (raw_vaxed_data[dose_cols] == yr).any(axis=1) & raw_vaxed_data[f\"denom_{yr}\"]\n",
    "            \n",
    "#             cols_added.append(new_col)\n",
    "        \n",
    "#         # track ever based on ever_col or individual doses\n",
    "#         new_col = f\"{v.name}_any_dose_{yr}\"\n",
    "        \n",
    "#         vaxed_data[new_col] = (((vaxed_data[cols_added] == 1.0).any(axis=1) | \n",
    "#                                 (vaxed_data[v.ever_col_year] == yr).any(axis=1) | \n",
    "#                                 (vaxed_data[v.ever_col].replace(ever_harmonize_map) == 1.0).any(axis=1)) &\n",
    "#                                vaxed_data[f\"denom_{yr}\"])\n",
    "        \n",
    "#         raw_vaxed_data[new_col] = (((raw_vaxed_data[cols_added] == 1.0).any(axis=1) | \n",
    "#                         (raw_vaxed_data[v.ever_col_year] == yr).any(axis=1) | \n",
    "#                         (raw_vaxed_data[v.ever_col].replace(ever_harmonize_map) == 1.0).any(axis=1)) &\n",
    "#                        raw_vaxed_data[f\"denom_{yr}\"])\n",
    "\n",
    "#         all_cols_added[yr] += cols_added + [new_col]"
   ]
  },
  {
   "cell_type": "code",
   "execution_count": null,
   "metadata": {
    "scrolled": false
   },
   "outputs": [],
   "source": [
    "sampled_data = vaxed_data.groupby(['country', 'HH7'])[all_cols_added].sum()\n",
    "raw_data = raw_vaxed_data.groupby(['country', 'HH7'])[all_cols_added].sum()\n",
    "\n",
    "# calculate coverage\n",
    "original_denom = sampled_data[f\"denom\"].copy()\n",
    "cov_percentages = sampled_data.divide(original_denom, axis=0)\n",
    "cov_percentages.denom = original_denom\n",
    "\n",
    "# only show data where we talked to enough kids\n",
    "mics_to_compare = cov_percentages.loc[raw_data[f\"denom\"] >= 20, :].reset_index()\n",
    "\n",
    "print(mics_to_compare.shape)\n",
    "mics_to_compare.head(2)"
   ]
  },
  {
   "cell_type": "code",
   "execution_count": null,
   "metadata": {},
   "outputs": [],
   "source": [
    "### Create immunization value counts"
   ]
  },
  {
   "cell_type": "code",
   "execution_count": null,
   "metadata": {},
   "outputs": [],
   "source": [
    "who.head()"
   ]
  },
  {
   "cell_type": "code",
   "execution_count": null,
   "metadata": {},
   "outputs": [],
   "source": [
    "who = pd.read_csv(Path(\"../data/interim/who_subnational_with_geocodes.csv\"), index_col=0)\n",
    "\n",
    "\n",
    "# for v in ['DTP']:\n",
    "#     who[f\"who_any_{v}\"] = who[[c for c in who.columns if c.startswith(v)]].max(axis=1)\n",
    "\n",
    "coverage_by_Admin1 = (who.groupby(['Country Name', 'google_admin_1', 'Vaccine Type'])\n",
    "                                 [['recalc_numerator', 'Denominator']]\n",
    "                                    .sum()\n",
    "                                    .pipe(lambda x: x.recalc_numerator / x.Denominator)\n",
    "                                    .unstack())\n",
    "\n",
    "coverage_by_Admin1.reset_index(inplace=True)\n",
    "coverage_by_Admin1.describe()"
   ]
  },
  {
   "cell_type": "markdown",
   "metadata": {},
   "source": [
    "## Geocode from `geocodes.json`"
   ]
  },
  {
   "cell_type": "code",
   "execution_count": null,
   "metadata": {},
   "outputs": [],
   "source": [
    "import json\n",
    "with open(Path(\"../data/interim/MICS/geocodes.json\"), 'r') as f:\n",
    "    lookups = json.load(f)"
   ]
  },
  {
   "cell_type": "code",
   "execution_count": null,
   "metadata": {},
   "outputs": [],
   "source": [
    "def extract_canonical_location_info(item):\n",
    "    place_id, google_admin_1, google_admin_2 = None, None, None\n",
    "    \n",
    "    if item['results']:\n",
    "        place_id = item['results'][0]['place_id']\n",
    "        \n",
    "        for ac in item['results'][0]['address_components']:\n",
    "            if 'administrative_area_level_1' in ac['types']:\n",
    "                google_admin_1 = unidecode(ac['long_name'])\n",
    "            elif 'administrative_area_level_2' in ac['types']:\n",
    "                google_admin_2 = unidecode(ac['long_name'])\n",
    "    \n",
    "    return {'google_admin_1': google_admin_1,\n",
    "            'google_admin_2': google_admin_2,\n",
    "            'place_id': place_id}\n"
   ]
  },
  {
   "cell_type": "code",
   "execution_count": null,
   "metadata": {},
   "outputs": [],
   "source": [
    "from unidecode import unidecode"
   ]
  },
  {
   "cell_type": "code",
   "execution_count": null,
   "metadata": {
    "scrolled": false
   },
   "outputs": [],
   "source": [
    "reses = []\n",
    "for ix, item in mics_to_compare.iterrows():\n",
    "    \n",
    "    reses.append(extract_canonical_location_info(lookups[item.country][item.HH7]))\n",
    "\n",
    "\n",
    "mics_to_compare['google_admin_1'] = pd.DataFrame(reses).google_admin_1\n",
    "mics_to_compare.head()"
   ]
  },
  {
   "cell_type": "code",
   "execution_count": null,
   "metadata": {},
   "outputs": [],
   "source": [
    "who_and_mics_by_admin1 = mics_to_compare.merge(coverage_by_Admin1,\n",
    "                                               left_on=['country', 'google_admin_1'],\n",
    "                                               right_on=['Country Name', 'google_admin_1'],\n",
    "                                               how='inner')\n",
    "\n",
    "print(who_and_mics_by_admin1.shape)"
   ]
  },
  {
   "cell_type": "code",
   "execution_count": null,
   "metadata": {},
   "outputs": [],
   "source": [
    "who_and_mics_by_admin1.head()"
   ]
  },
  {
   "cell_type": "code",
   "execution_count": null,
   "metadata": {},
   "outputs": [],
   "source": [
    "pd.set_option(\"display.max_columns\", 100)\n",
    "who_and_mics_by_admin1.describe()"
   ]
  },
  {
   "cell_type": "code",
   "execution_count": null,
   "metadata": {},
   "outputs": [],
   "source": [
    "# for v in ['DTP', 'MCV']:\n",
    "#     cols = [c for c in who_and_mics_by_admin1.columns if c.startswith(v)]\n",
    "\n",
    "# who_and_mics_by_admin1[cols].max(axis=1)"
   ]
  },
  {
   "cell_type": "code",
   "execution_count": null,
   "metadata": {
    "scrolled": false
   },
   "outputs": [],
   "source": [
    "plot_together = [\n",
    "    ('DTP', 'mics_DTP_any_dose', \"DTP Immunization Coverage\"),\n",
    "    ('BCG', 'mics_BCG_any_dose', \"BCG Immunization Coverage\"),\n",
    "    ('MCV', 'mics_Measles_any_dose', \"Measles Immunization Coverage\"),\n",
    "]\n",
    "\n",
    "\n",
    "for who_prefix, mics_prefix, title in plot_together:\n",
    "    to_plot = pd.DataFrame({\n",
    "        'WHO Data': who_and_mics_by_admin1[[c for c in who_and_mics_by_admin1.columns if c.startswith(who_prefix)]].fillna(0).max(axis=1).values,\n",
    "        'MICS Data': who_and_mics_by_admin1[mics_prefix].values,\n",
    "        },\n",
    "        index = (who_and_mics_by_admin1.country + \", \" + who_and_mics_by_admin1.google_admin_1).values\n",
    "    )\n",
    "    \n",
    "    with styled_fig_ax(size='custom', font_size=8, x_formatter=pct_func_formatter(), zero_lines=False,\n",
    "                       other_rc_params={'figure.figsize': (3, 6.5)}) as ax:\n",
    "        to_plot.plot.barh(ax=ax)\n",
    "        av_err = to_plot.diff(axis=1).abs().mean().values[1]\n",
    "        ax.set_title(title + \" (Mean Error: {:.0f}%)\".format(av_err*100))\n"
   ]
  },
  {
   "cell_type": "code",
   "execution_count": null,
   "metadata": {},
   "outputs": [],
   "source": [
    "who_df[((who_df['Country Name'] == 'Paraguay') & \n",
    "        (who_df['Vaccine Type'] == 'BCG'))]"
   ]
  },
  {
   "cell_type": "code",
   "execution_count": null,
   "metadata": {},
   "outputs": [],
   "source": [
    "# upsampled = upsample_dhs(rwa_dhs)\n",
    "\n",
    "# upsampled.sdistrict = clean_uga_districts(upsampled.sdistrict)\n",
    "# who_rwa.Admin2 = clean_who_rwa_names(who_rwa.Admin2)\n",
    "\n",
    "\n",
    "\n",
    "# vax_rates = calculate_rate(upsampled, vaxes)\n",
    "# unsampled_vax_rates = calculate_rate(rwa_dhs, vaxes)\n",
    "\n",
    "# district_sums = calculate_district_sums(upsampled, rwa_dhs, vax_rates, unsampled_vax_rates)\n",
    "\n",
    "# coverage_by_Admin2 = get_admin2_coverage(who_rwa)\n",
    "# bar_plot_who_dhs(coverage_by_Admin2, district_sums)\n",
    "violin_plot_who_dhs(coverage_by_Admin2,\n",
    "                    district_sums,\n",
    "                    \"Rwanda Distribution of Vaccine Coverage Aross Regions\",\n",
    "                    ylim=(0, 2.0))\n"
   ]
  },
  {
   "cell_type": "code",
   "execution_count": null,
   "metadata": {},
   "outputs": [],
   "source": [
    "# from unidecode import unidecode\n",
    "\n",
    "# def clean_geo_names(x):\n",
    "#     x = unidecode(x.strip().upper())\n",
    "#     x = x.replace(\"-\", \" \")\n",
    "#     return x"
   ]
  },
  {
   "cell_type": "code",
   "execution_count": null,
   "metadata": {},
   "outputs": [],
   "source": [
    "# yr=2014\n",
    "# df=coverage_dfs[0]\n",
    "\n",
    "# subset_who = coverage_by_Admin1[coverage_by_Admin1['Country Name'].isin(df.country.unique())]\n",
    "# subset_who['Admin1'] = subset_who['Admin1'].apply(clean_geo_names)\n",
    "\n",
    "\n",
    "# subset_who.columns = [f\"{c}_{yr}\" for c in subset_who.columns]\n",
    "# subset_who.rename(columns={f'Country Name_{yr}': 'country', f'Admin1_{yr}': 'HH7'}, inplace=True)\n",
    "\n",
    "\n",
    "# df.HH7 = df.HH7.apply(clean_geo_names)\n",
    "\n",
    "# shared_regions = np.intersect1d(df.HH7.unique(), subset_who.HH7.unique())\n",
    "\n",
    "# df = df.sort_values(['country', 'HH7'])[df.HH7.isin(shared_regions)]\n",
    "# subset_who = subset_who[subset_who.HH7.isin(shared_regions)].sort_values(['country', 'HH7'])"
   ]
  },
  {
   "cell_type": "code",
   "execution_count": null,
   "metadata": {
    "scrolled": false
   },
   "outputs": [],
   "source": []
  },
  {
   "cell_type": "code",
   "execution_count": null,
   "metadata": {},
   "outputs": [],
   "source": [
    "df"
   ]
  },
  {
   "cell_type": "code",
   "execution_count": null,
   "metadata": {},
   "outputs": [],
   "source": [
    "subset_who"
   ]
  },
  {
   "cell_type": "code",
   "execution_count": null,
   "metadata": {},
   "outputs": [],
   "source": []
  }
 ],
 "metadata": {
  "kernelspec": {
   "display_name": "Python 3",
   "language": "python",
   "name": "python3"
  },
  "language_info": {
   "codemirror_mode": {
    "name": "ipython",
    "version": 3
   },
   "file_extension": ".py",
   "mimetype": "text/x-python",
   "name": "python",
   "nbconvert_exporter": "python",
   "pygments_lexer": "ipython3",
   "version": "3.6.4"
  }
 },
 "nbformat": 4,
 "nbformat_minor": 2
}
