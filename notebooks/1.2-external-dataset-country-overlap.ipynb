{
 "cells": [
  {
   "cell_type": "markdown",
   "metadata": {},
   "source": [
    "### HRSL countries from: https://ciesin.columbia.edu/data/hrsl/"
   ]
  },
  {
   "cell_type": "code",
   "execution_count": 1,
   "metadata": {},
   "outputs": [],
   "source": [
    "hrsl_countries = \"\"\"\n",
    "Algeria\n",
    "Burkina Faso\n",
    "Cambodia\n",
    "Ghana\n",
    "Haiti\n",
    "Ivory Coast\n",
    "Kenya\n",
    "Madagascar\n",
    "Malawi\n",
    "Mexico\n",
    "Mozambique\n",
    "The Philippines\n",
    "Puerto Rico\n",
    "Rwanda\n",
    "South Africa\n",
    "Sri Lanka\n",
    "Tanzania\n",
    "Thailand\n",
    "Uganda\n",
    "\"\"\".split(\"\\n\")\n",
    "hrsl_countries\n",
    "\n",
    "hrsl_countries_set = set(hrsl_countries)"
   ]
  },
  {
   "cell_type": "markdown",
   "metadata": {},
   "source": [
    "### MICS countries"
   ]
  },
  {
   "cell_type": "code",
   "execution_count": 2,
   "metadata": {},
   "outputs": [],
   "source": [
    "from pathlib import Path\n",
    "\n",
    "mics_data = Path(\"../data/external/MICS/\")\n",
    "\n",
    "mics_countries = [d.name.split(\"_\")[0] for d in mics_data.iterdir()]\n",
    "mics_countries_set = set(mics_countries)"
   ]
  },
  {
   "cell_type": "code",
   "execution_count": 4,
   "metadata": {},
   "outputs": [
    {
     "data": {
      "text/plain": [
       "{'Benin',\n",
       " 'Cameroon',\n",
       " 'Cuba',\n",
       " 'Dominican Republic',\n",
       " 'Egypt (Sub-national)',\n",
       " 'El Salvador',\n",
       " 'Guinea Bissau',\n",
       " 'Guyana',\n",
       " 'Kazakhstan',\n",
       " 'Kenya (Bungoma County)',\n",
       " 'Kenya (Kakamega County)',\n",
       " 'Kenya (Turkana County)',\n",
       " 'Kyrgyzstan',\n",
       " 'Malawi',\n",
       " 'Mali',\n",
       " 'Mexico',\n",
       " 'Mongolia',\n",
       " 'Nepal',\n",
       " 'Nigeria',\n",
       " 'Pakistan (Punjab)',\n",
       " 'Pakistan (Sindh)',\n",
       " 'Paraguay',\n",
       " 'Sao Tome and Principe',\n",
       " 'Serbia',\n",
       " 'Sudan',\n",
       " 'Swaziland',\n",
       " 'Turkmenistan',\n",
       " 'Viet Nam',\n",
       " 'Zimbabwe'}"
      ]
     },
     "execution_count": 4,
     "metadata": {},
     "output_type": "execute_result"
    }
   ],
   "source": [
    "mics_countries_set"
   ]
  },
  {
   "cell_type": "code",
   "execution_count": 3,
   "metadata": {},
   "outputs": [
    {
     "data": {
      "text/plain": [
       "{'Malawi', 'Mexico', 'Some Kenya'}"
      ]
     },
     "execution_count": 3,
     "metadata": {},
     "output_type": "execute_result"
    }
   ],
   "source": [
    "set(hrsl_countries) & set(mics_countries) ^ set([\"Some Kenya\"])"
   ]
  },
  {
   "cell_type": "markdown",
   "metadata": {},
   "source": [
    "### DHS countries\n",
    "Copied from:\n",
    "https://dhsprogram.com/data/File-Types-and-Names.cfm#CP_JUMP_10136"
   ]
  },
  {
   "cell_type": "code",
   "execution_count": 5,
   "metadata": {},
   "outputs": [
    {
     "ename": "EmptyDataError",
     "evalue": "No columns to parse from file",
     "output_type": "error",
     "traceback": [
      "\u001b[0;31m---------------------------------------------------------------------------\u001b[0m",
      "\u001b[0;31mEmptyDataError\u001b[0m                            Traceback (most recent call last)",
      "\u001b[0;32m<ipython-input-5-20946991a736>\u001b[0m in \u001b[0;36m<module>\u001b[0;34m()\u001b[0m\n\u001b[1;32m      2\u001b[0m \u001b[0;32mimport\u001b[0m \u001b[0mnumpy\u001b[0m \u001b[0;32mas\u001b[0m \u001b[0mnp\u001b[0m\u001b[0;34m\u001b[0m\u001b[0m\n\u001b[1;32m      3\u001b[0m \u001b[0;34m\u001b[0m\u001b[0m\n\u001b[0;32m----> 4\u001b[0;31m \u001b[0mraw_df\u001b[0m \u001b[0;34m=\u001b[0m \u001b[0mpd\u001b[0m\u001b[0;34m.\u001b[0m\u001b[0mread_clipboard\u001b[0m\u001b[0;34m(\u001b[0m\u001b[0;34m)\u001b[0m\u001b[0;34m\u001b[0m\u001b[0m\n\u001b[0m\u001b[1;32m      5\u001b[0m \u001b[0;34m\u001b[0m\u001b[0m\n\u001b[1;32m      6\u001b[0m \u001b[0mnew_df\u001b[0m \u001b[0;34m=\u001b[0m \u001b[0mpd\u001b[0m\u001b[0;34m.\u001b[0m\u001b[0mconcat\u001b[0m\u001b[0;34m(\u001b[0m\u001b[0;34m[\u001b[0m\u001b[0mraw_df\u001b[0m\u001b[0;34m[\u001b[0m\u001b[0;34m[\u001b[0m\u001b[0;34m'Code'\u001b[0m\u001b[0;34m,\u001b[0m \u001b[0;34m'Country Name'\u001b[0m\u001b[0;34m]\u001b[0m\u001b[0;34m]\u001b[0m\u001b[0;34m,\u001b[0m \u001b[0mraw_df\u001b[0m\u001b[0;34m[\u001b[0m\u001b[0;34m[\u001b[0m\u001b[0;34m'Code.1'\u001b[0m\u001b[0;34m,\u001b[0m \u001b[0;34m'Country Name.1'\u001b[0m\u001b[0;34m]\u001b[0m\u001b[0;34m]\u001b[0m\u001b[0;34m]\u001b[0m\u001b[0;34m)\u001b[0m\u001b[0;34m\u001b[0m\u001b[0m\n",
      "\u001b[0;32m~/anaconda3/envs/subnational-vaccines/lib/python3.6/site-packages/pandas/io/clipboards.py\u001b[0m in \u001b[0;36mread_clipboard\u001b[0;34m(sep, **kwargs)\u001b[0m\n\u001b[1;32m     61\u001b[0m         \u001b[0msep\u001b[0m \u001b[0;34m=\u001b[0m \u001b[0;34m'\\s+'\u001b[0m\u001b[0;34m\u001b[0m\u001b[0m\n\u001b[1;32m     62\u001b[0m \u001b[0;34m\u001b[0m\u001b[0m\n\u001b[0;32m---> 63\u001b[0;31m     \u001b[0;32mreturn\u001b[0m \u001b[0mread_table\u001b[0m\u001b[0;34m(\u001b[0m\u001b[0mStringIO\u001b[0m\u001b[0;34m(\u001b[0m\u001b[0mtext\u001b[0m\u001b[0;34m)\u001b[0m\u001b[0;34m,\u001b[0m \u001b[0msep\u001b[0m\u001b[0;34m=\u001b[0m\u001b[0msep\u001b[0m\u001b[0;34m,\u001b[0m \u001b[0;34m**\u001b[0m\u001b[0mkwargs\u001b[0m\u001b[0;34m)\u001b[0m\u001b[0;34m\u001b[0m\u001b[0m\n\u001b[0m\u001b[1;32m     64\u001b[0m \u001b[0;34m\u001b[0m\u001b[0m\n\u001b[1;32m     65\u001b[0m \u001b[0;34m\u001b[0m\u001b[0m\n",
      "\u001b[0;32m~/anaconda3/envs/subnational-vaccines/lib/python3.6/site-packages/pandas/io/parsers.py\u001b[0m in \u001b[0;36mparser_f\u001b[0;34m(filepath_or_buffer, sep, delimiter, header, names, index_col, usecols, squeeze, prefix, mangle_dupe_cols, dtype, engine, converters, true_values, false_values, skipinitialspace, skiprows, nrows, na_values, keep_default_na, na_filter, verbose, skip_blank_lines, parse_dates, infer_datetime_format, keep_date_col, date_parser, dayfirst, iterator, chunksize, compression, thousands, decimal, lineterminator, quotechar, quoting, escapechar, comment, encoding, dialect, tupleize_cols, error_bad_lines, warn_bad_lines, skipfooter, skip_footer, doublequote, delim_whitespace, as_recarray, compact_ints, use_unsigned, low_memory, buffer_lines, memory_map, float_precision)\u001b[0m\n\u001b[1;32m    707\u001b[0m                     skip_blank_lines=skip_blank_lines)\n\u001b[1;32m    708\u001b[0m \u001b[0;34m\u001b[0m\u001b[0m\n\u001b[0;32m--> 709\u001b[0;31m         \u001b[0;32mreturn\u001b[0m \u001b[0m_read\u001b[0m\u001b[0;34m(\u001b[0m\u001b[0mfilepath_or_buffer\u001b[0m\u001b[0;34m,\u001b[0m \u001b[0mkwds\u001b[0m\u001b[0;34m)\u001b[0m\u001b[0;34m\u001b[0m\u001b[0m\n\u001b[0m\u001b[1;32m    710\u001b[0m \u001b[0;34m\u001b[0m\u001b[0m\n\u001b[1;32m    711\u001b[0m     \u001b[0mparser_f\u001b[0m\u001b[0;34m.\u001b[0m\u001b[0m__name__\u001b[0m \u001b[0;34m=\u001b[0m \u001b[0mname\u001b[0m\u001b[0;34m\u001b[0m\u001b[0m\n",
      "\u001b[0;32m~/anaconda3/envs/subnational-vaccines/lib/python3.6/site-packages/pandas/io/parsers.py\u001b[0m in \u001b[0;36m_read\u001b[0;34m(filepath_or_buffer, kwds)\u001b[0m\n\u001b[1;32m    447\u001b[0m \u001b[0;34m\u001b[0m\u001b[0m\n\u001b[1;32m    448\u001b[0m     \u001b[0;31m# Create the parser.\u001b[0m\u001b[0;34m\u001b[0m\u001b[0;34m\u001b[0m\u001b[0m\n\u001b[0;32m--> 449\u001b[0;31m     \u001b[0mparser\u001b[0m \u001b[0;34m=\u001b[0m \u001b[0mTextFileReader\u001b[0m\u001b[0;34m(\u001b[0m\u001b[0mfilepath_or_buffer\u001b[0m\u001b[0;34m,\u001b[0m \u001b[0;34m**\u001b[0m\u001b[0mkwds\u001b[0m\u001b[0;34m)\u001b[0m\u001b[0;34m\u001b[0m\u001b[0m\n\u001b[0m\u001b[1;32m    450\u001b[0m \u001b[0;34m\u001b[0m\u001b[0m\n\u001b[1;32m    451\u001b[0m     \u001b[0;32mif\u001b[0m \u001b[0mchunksize\u001b[0m \u001b[0;32mor\u001b[0m \u001b[0miterator\u001b[0m\u001b[0;34m:\u001b[0m\u001b[0;34m\u001b[0m\u001b[0m\n",
      "\u001b[0;32m~/anaconda3/envs/subnational-vaccines/lib/python3.6/site-packages/pandas/io/parsers.py\u001b[0m in \u001b[0;36m__init__\u001b[0;34m(self, f, engine, **kwds)\u001b[0m\n\u001b[1;32m    816\u001b[0m             \u001b[0mself\u001b[0m\u001b[0;34m.\u001b[0m\u001b[0moptions\u001b[0m\u001b[0;34m[\u001b[0m\u001b[0;34m'has_index_names'\u001b[0m\u001b[0;34m]\u001b[0m \u001b[0;34m=\u001b[0m \u001b[0mkwds\u001b[0m\u001b[0;34m[\u001b[0m\u001b[0;34m'has_index_names'\u001b[0m\u001b[0;34m]\u001b[0m\u001b[0;34m\u001b[0m\u001b[0m\n\u001b[1;32m    817\u001b[0m \u001b[0;34m\u001b[0m\u001b[0m\n\u001b[0;32m--> 818\u001b[0;31m         \u001b[0mself\u001b[0m\u001b[0;34m.\u001b[0m\u001b[0m_make_engine\u001b[0m\u001b[0;34m(\u001b[0m\u001b[0mself\u001b[0m\u001b[0;34m.\u001b[0m\u001b[0mengine\u001b[0m\u001b[0;34m)\u001b[0m\u001b[0;34m\u001b[0m\u001b[0m\n\u001b[0m\u001b[1;32m    819\u001b[0m \u001b[0;34m\u001b[0m\u001b[0m\n\u001b[1;32m    820\u001b[0m     \u001b[0;32mdef\u001b[0m \u001b[0mclose\u001b[0m\u001b[0;34m(\u001b[0m\u001b[0mself\u001b[0m\u001b[0;34m)\u001b[0m\u001b[0;34m:\u001b[0m\u001b[0;34m\u001b[0m\u001b[0m\n",
      "\u001b[0;32m~/anaconda3/envs/subnational-vaccines/lib/python3.6/site-packages/pandas/io/parsers.py\u001b[0m in \u001b[0;36m_make_engine\u001b[0;34m(self, engine)\u001b[0m\n\u001b[1;32m   1047\u001b[0m     \u001b[0;32mdef\u001b[0m \u001b[0m_make_engine\u001b[0m\u001b[0;34m(\u001b[0m\u001b[0mself\u001b[0m\u001b[0;34m,\u001b[0m \u001b[0mengine\u001b[0m\u001b[0;34m=\u001b[0m\u001b[0;34m'c'\u001b[0m\u001b[0;34m)\u001b[0m\u001b[0;34m:\u001b[0m\u001b[0;34m\u001b[0m\u001b[0m\n\u001b[1;32m   1048\u001b[0m         \u001b[0;32mif\u001b[0m \u001b[0mengine\u001b[0m \u001b[0;34m==\u001b[0m \u001b[0;34m'c'\u001b[0m\u001b[0;34m:\u001b[0m\u001b[0;34m\u001b[0m\u001b[0m\n\u001b[0;32m-> 1049\u001b[0;31m             \u001b[0mself\u001b[0m\u001b[0;34m.\u001b[0m\u001b[0m_engine\u001b[0m \u001b[0;34m=\u001b[0m \u001b[0mCParserWrapper\u001b[0m\u001b[0;34m(\u001b[0m\u001b[0mself\u001b[0m\u001b[0;34m.\u001b[0m\u001b[0mf\u001b[0m\u001b[0;34m,\u001b[0m \u001b[0;34m**\u001b[0m\u001b[0mself\u001b[0m\u001b[0;34m.\u001b[0m\u001b[0moptions\u001b[0m\u001b[0;34m)\u001b[0m\u001b[0;34m\u001b[0m\u001b[0m\n\u001b[0m\u001b[1;32m   1050\u001b[0m         \u001b[0;32melse\u001b[0m\u001b[0;34m:\u001b[0m\u001b[0;34m\u001b[0m\u001b[0m\n\u001b[1;32m   1051\u001b[0m             \u001b[0;32mif\u001b[0m \u001b[0mengine\u001b[0m \u001b[0;34m==\u001b[0m \u001b[0;34m'python'\u001b[0m\u001b[0;34m:\u001b[0m\u001b[0;34m\u001b[0m\u001b[0m\n",
      "\u001b[0;32m~/anaconda3/envs/subnational-vaccines/lib/python3.6/site-packages/pandas/io/parsers.py\u001b[0m in \u001b[0;36m__init__\u001b[0;34m(self, src, **kwds)\u001b[0m\n\u001b[1;32m   1693\u001b[0m         \u001b[0mkwds\u001b[0m\u001b[0;34m[\u001b[0m\u001b[0;34m'allow_leading_cols'\u001b[0m\u001b[0;34m]\u001b[0m \u001b[0;34m=\u001b[0m \u001b[0mself\u001b[0m\u001b[0;34m.\u001b[0m\u001b[0mindex_col\u001b[0m \u001b[0;32mis\u001b[0m \u001b[0;32mnot\u001b[0m \u001b[0;32mFalse\u001b[0m\u001b[0;34m\u001b[0m\u001b[0m\n\u001b[1;32m   1694\u001b[0m \u001b[0;34m\u001b[0m\u001b[0m\n\u001b[0;32m-> 1695\u001b[0;31m         \u001b[0mself\u001b[0m\u001b[0;34m.\u001b[0m\u001b[0m_reader\u001b[0m \u001b[0;34m=\u001b[0m \u001b[0mparsers\u001b[0m\u001b[0;34m.\u001b[0m\u001b[0mTextReader\u001b[0m\u001b[0;34m(\u001b[0m\u001b[0msrc\u001b[0m\u001b[0;34m,\u001b[0m \u001b[0;34m**\u001b[0m\u001b[0mkwds\u001b[0m\u001b[0;34m)\u001b[0m\u001b[0;34m\u001b[0m\u001b[0m\n\u001b[0m\u001b[1;32m   1696\u001b[0m \u001b[0;34m\u001b[0m\u001b[0m\n\u001b[1;32m   1697\u001b[0m         \u001b[0;31m# XXX\u001b[0m\u001b[0;34m\u001b[0m\u001b[0;34m\u001b[0m\u001b[0m\n",
      "\u001b[0;32mpandas/_libs/parsers.pyx\u001b[0m in \u001b[0;36mpandas._libs.parsers.TextReader.__cinit__\u001b[0;34m()\u001b[0m\n",
      "\u001b[0;31mEmptyDataError\u001b[0m: No columns to parse from file"
     ]
    }
   ],
   "source": [
    "import pandas as pd\n",
    "import numpy as np\n",
    "\n",
    "raw_df = pd.read_clipboard()\n",
    "\n",
    "new_df = pd.concat([raw_df[['Code', 'Country Name']], raw_df[['Code.1', 'Country Name.1']]])\n",
    "\n",
    "new_df['code'] = np.where(pd.isnull(new_df.Code),\n",
    "                       new_df['Code.1'],\n",
    "                       new_df.Code)\n",
    "\n",
    "new_df['country'] = np.where(pd.isnull(new_df['Country Name']),\n",
    "                       new_df['Country Name.1'],\n",
    "                       new_df['Country Name'])\n",
    "\n",
    "new_df.drop(['Code', 'Code.1', 'Country Name', 'Country Name.1'], axis=1, inplace=True)\n",
    "new_df"
   ]
  },
  {
   "cell_type": "code",
   "execution_count": 7,
   "metadata": {},
   "outputs": [],
   "source": [
    "dhs_set = set(new_df.country.tolist())"
   ]
  },
  {
   "cell_type": "code",
   "execution_count": 48,
   "metadata": {},
   "outputs": [
    {
     "ename": "NameError",
     "evalue": "name 'dhs_set' is not defined",
     "output_type": "error",
     "traceback": [
      "\u001b[0;31m---------------------------------------------------------------------------\u001b[0m",
      "\u001b[0;31mNameError\u001b[0m                                 Traceback (most recent call last)",
      "\u001b[0;32m<ipython-input-48-15cc6b8823ae>\u001b[0m in \u001b[0;36m<module>\u001b[0;34m()\u001b[0m\n\u001b[0;32m----> 1\u001b[0;31m \u001b[0mlen\u001b[0m\u001b[0;34m(\u001b[0m\u001b[0mdhs_set\u001b[0m \u001b[0;34m&\u001b[0m \u001b[0mset\u001b[0m\u001b[0;34m(\u001b[0m\u001b[0mmics_countries\u001b[0m\u001b[0;34m)\u001b[0m\u001b[0;34m)\u001b[0m\u001b[0;34m\u001b[0m\u001b[0m\n\u001b[0m",
      "\u001b[0;31mNameError\u001b[0m: name 'dhs_set' is not defined"
     ]
    }
   ],
   "source": [
    "len(dhs_set & set(mics_countries))"
   ]
  },
  {
   "cell_type": "code",
   "execution_count": 49,
   "metadata": {},
   "outputs": [
    {
     "ename": "NameError",
     "evalue": "name 'dhs_set' is not defined",
     "output_type": "error",
     "traceback": [
      "\u001b[0;31m---------------------------------------------------------------------------\u001b[0m",
      "\u001b[0;31mNameError\u001b[0m                                 Traceback (most recent call last)",
      "\u001b[0;32m<ipython-input-49-b9e4ea96cf02>\u001b[0m in \u001b[0;36m<module>\u001b[0;34m()\u001b[0m\n\u001b[0;32m----> 1\u001b[0;31m \u001b[0mlen\u001b[0m\u001b[0;34m(\u001b[0m\u001b[0mdhs_set\u001b[0m \u001b[0;34m&\u001b[0m \u001b[0mset\u001b[0m\u001b[0;34m(\u001b[0m\u001b[0mhrsl_countries\u001b[0m\u001b[0;34m)\u001b[0m\u001b[0;34m)\u001b[0m\u001b[0;34m\u001b[0m\u001b[0m\n\u001b[0m",
      "\u001b[0;31mNameError\u001b[0m: name 'dhs_set' is not defined"
     ]
    }
   ],
   "source": [
    "len(dhs_set & set(hrsl_countries))"
   ]
  },
  {
   "cell_type": "code",
   "execution_count": 6,
   "metadata": {},
   "outputs": [],
   "source": [
    "dfs = pd.read_html(\"https://dhsprogram.com/data/available-datasets.cfm\", header=0)"
   ]
  },
  {
   "cell_type": "code",
   "execution_count": 7,
   "metadata": {},
   "outputs": [
    {
     "ename": "NameError",
     "evalue": "name 're' is not defined",
     "output_type": "error",
     "traceback": [
      "\u001b[0;31m---------------------------------------------------------------------------\u001b[0m",
      "\u001b[0;31mNameError\u001b[0m                                 Traceback (most recent call last)",
      "\u001b[0;32m<ipython-input-7-8cc516b273d2>\u001b[0m in \u001b[0;36m<module>\u001b[0;34m()\u001b[0m\n\u001b[0;32m----> 1\u001b[0;31m \u001b[0mhyphen_yr_re\u001b[0m \u001b[0;34m=\u001b[0m \u001b[0mre\u001b[0m\u001b[0;34m.\u001b[0m\u001b[0mcompile\u001b[0m\u001b[0;34m(\u001b[0m\u001b[0;34m\"[0-9]{4}\\-([0-9]{2})\"\u001b[0m\u001b[0;34m)\u001b[0m\u001b[0;34m\u001b[0m\u001b[0m\n\u001b[0m\u001b[1;32m      2\u001b[0m \u001b[0myr_re\u001b[0m \u001b[0;34m=\u001b[0m \u001b[0mre\u001b[0m\u001b[0;34m.\u001b[0m\u001b[0mcompile\u001b[0m\u001b[0;34m(\u001b[0m\u001b[0;34m\"[0-9]{4}\"\u001b[0m\u001b[0;34m)\u001b[0m\u001b[0;34m\u001b[0m\u001b[0m\n\u001b[1;32m      3\u001b[0m \u001b[0;34m\u001b[0m\u001b[0m\n\u001b[1;32m      4\u001b[0m \u001b[0mm\u001b[0m \u001b[0;34m=\u001b[0m \u001b[0mhyphen_yr_re\u001b[0m\u001b[0;34m.\u001b[0m\u001b[0msearch\u001b[0m\u001b[0;34m(\u001b[0m\u001b[0;34m\"asdf 2016-17 (55)\"\u001b[0m\u001b[0;34m)\u001b[0m\u001b[0;34m\u001b[0m\u001b[0m\n\u001b[1;32m      5\u001b[0m \u001b[0mm\u001b[0m\u001b[0;34m.\u001b[0m\u001b[0mgroups\u001b[0m\u001b[0;34m(\u001b[0m\u001b[0;34m)\u001b[0m\u001b[0;34m[\u001b[0m\u001b[0;36m0\u001b[0m\u001b[0;34m]\u001b[0m\u001b[0;34m\u001b[0m\u001b[0m\n",
      "\u001b[0;31mNameError\u001b[0m: name 're' is not defined"
     ]
    }
   ],
   "source": [
    "hyphen_yr_re = re.compile(\"[0-9]{4}\\-([0-9]{2})\")\n",
    "yr_re = re.compile(\"[0-9]{4}\")\n",
    "    \n",
    "m = hyphen_yr_re.search(\"asdf 2016-17 (55)\")\n",
    "m.groups()[0]"
   ]
  },
  {
   "cell_type": "code",
   "execution_count": 8,
   "metadata": {
    "scrolled": false
   },
   "outputs": [],
   "source": [
    "import re\n",
    "\n",
    "def get_survey_year(s):\n",
    "    # remove footnotes\n",
    "    s = re.sub(\"\\([0-9]+\\)\", \"\", s)\n",
    "    \n",
    "    # get later year from hyphenated\n",
    "    hyphen_yr_re = re.compile(\"[0-9]{4}\\-([0-9]{2})\")\n",
    "    yr_re = re.compile(\"([0-9]{4})\")\n",
    "    \n",
    "    \n",
    "    if hyphen_yr_re.search(s):\n",
    "        re_match = hyphen_yr_re.search(s)\n",
    "        two_digit = re_match.groups()[0]\n",
    "        if int(two_digit) > 20:\n",
    "            return \"19\" + two_digit\n",
    "        else:\n",
    "            return \"20\" + two_digit\n",
    "    elif yr_re.search(s):\n",
    "        re_match = yr_re.search(s)\n",
    "        return re_match.groups()[0]\n",
    "    else:\n",
    "        print(\"No match \", s)\n",
    "        return \"None\"\n",
    "    \n",
    "\n",
    "\n",
    "dhs_surveys = pd.concat(dfs)\n",
    "\n",
    "\n",
    "dhs_surveys['year'] = dhs_surveys.Survey.apply(get_survey_year)"
   ]
  },
  {
   "cell_type": "code",
   "execution_count": 9,
   "metadata": {},
   "outputs": [
    {
     "data": {
      "text/html": [
       "<div>\n",
       "<style scoped>\n",
       "    .dataframe tbody tr th:only-of-type {\n",
       "        vertical-align: middle;\n",
       "    }\n",
       "\n",
       "    .dataframe tbody tr th {\n",
       "        vertical-align: top;\n",
       "    }\n",
       "\n",
       "    .dataframe thead th {\n",
       "        text-align: right;\n",
       "    }\n",
       "</style>\n",
       "<table border=\"1\" class=\"dataframe\">\n",
       "  <thead>\n",
       "    <tr style=\"text-align: right;\">\n",
       "      <th></th>\n",
       "      <th>Survey</th>\n",
       "      <th>Type</th>\n",
       "      <th>Phase</th>\n",
       "      <th>Recode</th>\n",
       "      <th>Survey Datasets</th>\n",
       "      <th>GPS Datasets</th>\n",
       "      <th>HIV/Other Biomarkers Datasets</th>\n",
       "      <th>SPA Datasets</th>\n",
       "      <th>year</th>\n",
       "    </tr>\n",
       "  </thead>\n",
       "  <tbody>\n",
       "    <tr>\n",
       "      <th>0</th>\n",
       "      <td>Afghanistan 2015</td>\n",
       "      <td>Standard DHS</td>\n",
       "      <td>DHS-VII</td>\n",
       "      <td>DHS-VII</td>\n",
       "      <td>Data Available</td>\n",
       "      <td>Not Yet Available</td>\n",
       "      <td>Not Collected</td>\n",
       "      <td>Not Applicable</td>\n",
       "      <td>2015</td>\n",
       "    </tr>\n",
       "    <tr>\n",
       "      <th>0</th>\n",
       "      <td>Angola 2015-16</td>\n",
       "      <td>Standard DHS</td>\n",
       "      <td>DHS-VII</td>\n",
       "      <td>DHS-VII</td>\n",
       "      <td>Data Available</td>\n",
       "      <td>Data Available</td>\n",
       "      <td>Data Available</td>\n",
       "      <td>Not Applicable</td>\n",
       "      <td>2016</td>\n",
       "    </tr>\n",
       "    <tr>\n",
       "      <th>0</th>\n",
       "      <td>Armenia 2015-16</td>\n",
       "      <td>Standard DHS</td>\n",
       "      <td>DHS-VII</td>\n",
       "      <td>DHS-VII</td>\n",
       "      <td>Data Available</td>\n",
       "      <td>Data Available</td>\n",
       "      <td>Not Collected</td>\n",
       "      <td>Not Applicable</td>\n",
       "      <td>2016</td>\n",
       "    </tr>\n",
       "    <tr>\n",
       "      <th>0</th>\n",
       "      <td>Chad 2014-15</td>\n",
       "      <td>Standard DHS</td>\n",
       "      <td>DHS-VII</td>\n",
       "      <td>DHS-VI</td>\n",
       "      <td>Data Available</td>\n",
       "      <td>Data Available</td>\n",
       "      <td>Data Available</td>\n",
       "      <td>Not Applicable</td>\n",
       "      <td>2015</td>\n",
       "    </tr>\n",
       "    <tr>\n",
       "      <th>0</th>\n",
       "      <td>Colombia 2015</td>\n",
       "      <td>Standard DHS</td>\n",
       "      <td>DHS-VII</td>\n",
       "      <td>DHS-VII</td>\n",
       "      <td>Data Available</td>\n",
       "      <td>Not Yet Available</td>\n",
       "      <td>Not Collected</td>\n",
       "      <td>Not Applicable</td>\n",
       "      <td>2015</td>\n",
       "    </tr>\n",
       "    <tr>\n",
       "      <th>0</th>\n",
       "      <td>Egypt 2015</td>\n",
       "      <td>Special</td>\n",
       "      <td>DHS-VII</td>\n",
       "      <td>--</td>\n",
       "      <td>Data Available</td>\n",
       "      <td>Not Distributed</td>\n",
       "      <td>Not Yet Available</td>\n",
       "      <td>Not Applicable</td>\n",
       "      <td>2015</td>\n",
       "    </tr>\n",
       "    <tr>\n",
       "      <th>0</th>\n",
       "      <td>Ethiopia 2016</td>\n",
       "      <td>Standard DHS</td>\n",
       "      <td>DHS-VII</td>\n",
       "      <td>DHS-VII</td>\n",
       "      <td>Data Available</td>\n",
       "      <td>Data Available</td>\n",
       "      <td>Data Available</td>\n",
       "      <td>Not Applicable</td>\n",
       "      <td>2016</td>\n",
       "    </tr>\n",
       "    <tr>\n",
       "      <th>0</th>\n",
       "      <td>Ghana 2016</td>\n",
       "      <td>MIS</td>\n",
       "      <td>DHS-VII</td>\n",
       "      <td>DHS-VII</td>\n",
       "      <td>Data Available</td>\n",
       "      <td>Data Available</td>\n",
       "      <td>Not Collected</td>\n",
       "      <td>Not Applicable</td>\n",
       "      <td>2016</td>\n",
       "    </tr>\n",
       "    <tr>\n",
       "      <th>0</th>\n",
       "      <td>Guatemala 2014-15 (22)</td>\n",
       "      <td>Standard DHS</td>\n",
       "      <td>DHS-VII</td>\n",
       "      <td>DHS-VI</td>\n",
       "      <td>Data Available</td>\n",
       "      <td>Data Available</td>\n",
       "      <td>Not Collected</td>\n",
       "      <td>Not Applicable</td>\n",
       "      <td>2015</td>\n",
       "    </tr>\n",
       "    <tr>\n",
       "      <th>0</th>\n",
       "      <td>India 2015-16</td>\n",
       "      <td>Standard DHS</td>\n",
       "      <td>DHS-VII</td>\n",
       "      <td>DHS-VI</td>\n",
       "      <td>Data Available</td>\n",
       "      <td>Data Available</td>\n",
       "      <td>Data Available</td>\n",
       "      <td>Not Applicable</td>\n",
       "      <td>2016</td>\n",
       "    </tr>\n",
       "    <tr>\n",
       "      <th>0</th>\n",
       "      <td>Kenya 2015</td>\n",
       "      <td>MIS</td>\n",
       "      <td>DHS-VII</td>\n",
       "      <td>DHS-VI</td>\n",
       "      <td>Data Available</td>\n",
       "      <td>Data Available</td>\n",
       "      <td>Not Collected</td>\n",
       "      <td>Not Applicable</td>\n",
       "      <td>2015</td>\n",
       "    </tr>\n",
       "    <tr>\n",
       "      <th>0</th>\n",
       "      <td>Liberia 2016</td>\n",
       "      <td>MIS</td>\n",
       "      <td>DHS-VII</td>\n",
       "      <td>DHS-VII</td>\n",
       "      <td>Data Available</td>\n",
       "      <td>Data Available</td>\n",
       "      <td>Not Collected</td>\n",
       "      <td>Not Applicable</td>\n",
       "      <td>2016</td>\n",
       "    </tr>\n",
       "    <tr>\n",
       "      <th>0</th>\n",
       "      <td>Madagascar 2016</td>\n",
       "      <td>MIS</td>\n",
       "      <td>DHS-VII</td>\n",
       "      <td>DHS-VII</td>\n",
       "      <td>Data Available</td>\n",
       "      <td>Data Available</td>\n",
       "      <td>Not Collected</td>\n",
       "      <td>Not Applicable</td>\n",
       "      <td>2016</td>\n",
       "    </tr>\n",
       "    <tr>\n",
       "      <th>0</th>\n",
       "      <td>Malawi 2015-16 (35)</td>\n",
       "      <td>Standard DHS</td>\n",
       "      <td>DHS-VII</td>\n",
       "      <td>DHS-VII</td>\n",
       "      <td>Data Available</td>\n",
       "      <td>Data Available</td>\n",
       "      <td>Data Available</td>\n",
       "      <td>Not Applicable</td>\n",
       "      <td>2016</td>\n",
       "    </tr>\n",
       "    <tr>\n",
       "      <th>0</th>\n",
       "      <td>Mali 2015</td>\n",
       "      <td>MIS</td>\n",
       "      <td>DHS-VII</td>\n",
       "      <td>DHS-VI</td>\n",
       "      <td>Data Available</td>\n",
       "      <td>Data Available</td>\n",
       "      <td>Not Collected</td>\n",
       "      <td>Not Applicable</td>\n",
       "      <td>2015</td>\n",
       "    </tr>\n",
       "    <tr>\n",
       "      <th>0</th>\n",
       "      <td>Mozambique 2015</td>\n",
       "      <td>Standard AIS</td>\n",
       "      <td>DHS-VII</td>\n",
       "      <td>DHS-VI</td>\n",
       "      <td>Data Available</td>\n",
       "      <td>Data Available</td>\n",
       "      <td>Data Available</td>\n",
       "      <td>Not Applicable</td>\n",
       "      <td>2015</td>\n",
       "    </tr>\n",
       "    <tr>\n",
       "      <th>0</th>\n",
       "      <td>Myanmar 2015-16</td>\n",
       "      <td>Standard DHS</td>\n",
       "      <td>DHS-VII</td>\n",
       "      <td>DHS-VII</td>\n",
       "      <td>Data Available</td>\n",
       "      <td>Data Available</td>\n",
       "      <td>Not Collected</td>\n",
       "      <td>Not Applicable</td>\n",
       "      <td>2016</td>\n",
       "    </tr>\n",
       "    <tr>\n",
       "      <th>0</th>\n",
       "      <td>Nepal 2016</td>\n",
       "      <td>Standard DHS</td>\n",
       "      <td>DHS-VII</td>\n",
       "      <td>DHS-VII</td>\n",
       "      <td>Data Available</td>\n",
       "      <td>Data Available</td>\n",
       "      <td>Not Collected</td>\n",
       "      <td>Not Applicable</td>\n",
       "      <td>2016</td>\n",
       "    </tr>\n",
       "    <tr>\n",
       "      <th>0</th>\n",
       "      <td>Nigeria 2015</td>\n",
       "      <td>MIS</td>\n",
       "      <td>DHS-VII</td>\n",
       "      <td>DHS-VI</td>\n",
       "      <td>Data Available</td>\n",
       "      <td>Data Available</td>\n",
       "      <td>Not Collected</td>\n",
       "      <td>Not Applicable</td>\n",
       "      <td>2015</td>\n",
       "    </tr>\n",
       "    <tr>\n",
       "      <th>0</th>\n",
       "      <td>Rwanda 2014-15</td>\n",
       "      <td>Standard DHS</td>\n",
       "      <td>DHS-VII</td>\n",
       "      <td>DHS-VI</td>\n",
       "      <td>Data Available</td>\n",
       "      <td>Data Available</td>\n",
       "      <td>Data Available</td>\n",
       "      <td>Not Applicable</td>\n",
       "      <td>2015</td>\n",
       "    </tr>\n",
       "    <tr>\n",
       "      <th>1</th>\n",
       "      <td>Senegal 2016 (56)</td>\n",
       "      <td>Continuous DHS</td>\n",
       "      <td>DHS-VII</td>\n",
       "      <td>DHS-VI</td>\n",
       "      <td>Data Available</td>\n",
       "      <td>Data Available</td>\n",
       "      <td>Not Collected</td>\n",
       "      <td>Not Applicable</td>\n",
       "      <td>2016</td>\n",
       "    </tr>\n",
       "    <tr>\n",
       "      <th>2</th>\n",
       "      <td>Senegal 2015</td>\n",
       "      <td>Continuous DHS</td>\n",
       "      <td>DHS-VII</td>\n",
       "      <td>DHS-VI</td>\n",
       "      <td>Data Available</td>\n",
       "      <td>Data Available</td>\n",
       "      <td>Not Collected</td>\n",
       "      <td>Not Applicable</td>\n",
       "      <td>2015</td>\n",
       "    </tr>\n",
       "    <tr>\n",
       "      <th>0</th>\n",
       "      <td>Sierra Leone 2016</td>\n",
       "      <td>MIS</td>\n",
       "      <td>DHS-VII</td>\n",
       "      <td>DHS-VII</td>\n",
       "      <td>Data Available</td>\n",
       "      <td>Data Available</td>\n",
       "      <td>Not Collected</td>\n",
       "      <td>Not Applicable</td>\n",
       "      <td>2016</td>\n",
       "    </tr>\n",
       "    <tr>\n",
       "      <th>0</th>\n",
       "      <td>Tanzania 2015-16 (62)</td>\n",
       "      <td>Standard DHS</td>\n",
       "      <td>DHS-VII</td>\n",
       "      <td>DHS-VII</td>\n",
       "      <td>Data Available</td>\n",
       "      <td>Data Available</td>\n",
       "      <td>Not Collected</td>\n",
       "      <td>Not Applicable</td>\n",
       "      <td>2016</td>\n",
       "    </tr>\n",
       "    <tr>\n",
       "      <th>0</th>\n",
       "      <td>Uganda 2016</td>\n",
       "      <td>Standard DHS</td>\n",
       "      <td>DHS-VII</td>\n",
       "      <td>DHS-VII</td>\n",
       "      <td>Data Available</td>\n",
       "      <td>Data Available</td>\n",
       "      <td>Not Collected</td>\n",
       "      <td>Not Applicable</td>\n",
       "      <td>2016</td>\n",
       "    </tr>\n",
       "    <tr>\n",
       "      <th>1</th>\n",
       "      <td>Uganda 2014-15</td>\n",
       "      <td>MIS</td>\n",
       "      <td>DHS-VII</td>\n",
       "      <td>DHS-VI</td>\n",
       "      <td>Data Available</td>\n",
       "      <td>Data Available</td>\n",
       "      <td>Not Collected</td>\n",
       "      <td>Not Applicable</td>\n",
       "      <td>2015</td>\n",
       "    </tr>\n",
       "    <tr>\n",
       "      <th>0</th>\n",
       "      <td>Zimbabwe 2015 (70)</td>\n",
       "      <td>Standard DHS</td>\n",
       "      <td>DHS-VII</td>\n",
       "      <td>DHS-VII</td>\n",
       "      <td>Data Available</td>\n",
       "      <td>Data Available</td>\n",
       "      <td>Data Available</td>\n",
       "      <td>Not Applicable</td>\n",
       "      <td>2015</td>\n",
       "    </tr>\n",
       "  </tbody>\n",
       "</table>\n",
       "</div>"
      ],
      "text/plain": [
       "                   Survey            Type    Phase   Recode Survey Datasets  \\\n",
       "0        Afghanistan 2015    Standard DHS  DHS-VII  DHS-VII  Data Available   \n",
       "0          Angola 2015-16    Standard DHS  DHS-VII  DHS-VII  Data Available   \n",
       "0         Armenia 2015-16    Standard DHS  DHS-VII  DHS-VII  Data Available   \n",
       "0            Chad 2014-15    Standard DHS  DHS-VII   DHS-VI  Data Available   \n",
       "0           Colombia 2015    Standard DHS  DHS-VII  DHS-VII  Data Available   \n",
       "0              Egypt 2015         Special  DHS-VII       --  Data Available   \n",
       "0           Ethiopia 2016    Standard DHS  DHS-VII  DHS-VII  Data Available   \n",
       "0              Ghana 2016             MIS  DHS-VII  DHS-VII  Data Available   \n",
       "0  Guatemala 2014-15 (22)    Standard DHS  DHS-VII   DHS-VI  Data Available   \n",
       "0           India 2015-16    Standard DHS  DHS-VII   DHS-VI  Data Available   \n",
       "0              Kenya 2015             MIS  DHS-VII   DHS-VI  Data Available   \n",
       "0            Liberia 2016             MIS  DHS-VII  DHS-VII  Data Available   \n",
       "0         Madagascar 2016             MIS  DHS-VII  DHS-VII  Data Available   \n",
       "0     Malawi 2015-16 (35)    Standard DHS  DHS-VII  DHS-VII  Data Available   \n",
       "0               Mali 2015             MIS  DHS-VII   DHS-VI  Data Available   \n",
       "0         Mozambique 2015    Standard AIS  DHS-VII   DHS-VI  Data Available   \n",
       "0         Myanmar 2015-16    Standard DHS  DHS-VII  DHS-VII  Data Available   \n",
       "0              Nepal 2016    Standard DHS  DHS-VII  DHS-VII  Data Available   \n",
       "0            Nigeria 2015             MIS  DHS-VII   DHS-VI  Data Available   \n",
       "0          Rwanda 2014-15    Standard DHS  DHS-VII   DHS-VI  Data Available   \n",
       "1       Senegal 2016 (56)  Continuous DHS  DHS-VII   DHS-VI  Data Available   \n",
       "2            Senegal 2015  Continuous DHS  DHS-VII   DHS-VI  Data Available   \n",
       "0       Sierra Leone 2016             MIS  DHS-VII  DHS-VII  Data Available   \n",
       "0   Tanzania 2015-16 (62)    Standard DHS  DHS-VII  DHS-VII  Data Available   \n",
       "0             Uganda 2016    Standard DHS  DHS-VII  DHS-VII  Data Available   \n",
       "1          Uganda 2014-15             MIS  DHS-VII   DHS-VI  Data Available   \n",
       "0      Zimbabwe 2015 (70)    Standard DHS  DHS-VII  DHS-VII  Data Available   \n",
       "\n",
       "        GPS Datasets HIV/Other Biomarkers Datasets    SPA Datasets  year  \n",
       "0  Not Yet Available                 Not Collected  Not Applicable  2015  \n",
       "0     Data Available                Data Available  Not Applicable  2016  \n",
       "0     Data Available                 Not Collected  Not Applicable  2016  \n",
       "0     Data Available                Data Available  Not Applicable  2015  \n",
       "0  Not Yet Available                 Not Collected  Not Applicable  2015  \n",
       "0    Not Distributed             Not Yet Available  Not Applicable  2015  \n",
       "0     Data Available                Data Available  Not Applicable  2016  \n",
       "0     Data Available                 Not Collected  Not Applicable  2016  \n",
       "0     Data Available                 Not Collected  Not Applicable  2015  \n",
       "0     Data Available                Data Available  Not Applicable  2016  \n",
       "0     Data Available                 Not Collected  Not Applicable  2015  \n",
       "0     Data Available                 Not Collected  Not Applicable  2016  \n",
       "0     Data Available                 Not Collected  Not Applicable  2016  \n",
       "0     Data Available                Data Available  Not Applicable  2016  \n",
       "0     Data Available                 Not Collected  Not Applicable  2015  \n",
       "0     Data Available                Data Available  Not Applicable  2015  \n",
       "0     Data Available                 Not Collected  Not Applicable  2016  \n",
       "0     Data Available                 Not Collected  Not Applicable  2016  \n",
       "0     Data Available                 Not Collected  Not Applicable  2015  \n",
       "0     Data Available                Data Available  Not Applicable  2015  \n",
       "1     Data Available                 Not Collected  Not Applicable  2016  \n",
       "2     Data Available                 Not Collected  Not Applicable  2015  \n",
       "0     Data Available                 Not Collected  Not Applicable  2016  \n",
       "0     Data Available                 Not Collected  Not Applicable  2016  \n",
       "0     Data Available                 Not Collected  Not Applicable  2016  \n",
       "1     Data Available                 Not Collected  Not Applicable  2015  \n",
       "0     Data Available                Data Available  Not Applicable  2015  "
      ]
     },
     "execution_count": 9,
     "metadata": {},
     "output_type": "execute_result"
    }
   ],
   "source": [
    "dhs_surveys[(dhs_surveys.year >= \"2015\") & (dhs_surveys['Survey Datasets'] == 'Data Available')]"
   ]
  },
  {
   "cell_type": "code",
   "execution_count": 54,
   "metadata": {
    "scrolled": true
   },
   "outputs": [],
   "source": [
    "def get_survey_country(s):\n",
    "    c = re.split(\"[0-9\\(]\", s)[0].strip()\n",
    "    return c\n",
    "\n",
    "dhs_surveys['country'] = dhs_surveys.Survey.apply(get_survey_country)"
   ]
  },
  {
   "cell_type": "code",
   "execution_count": 55,
   "metadata": {},
   "outputs": [],
   "source": [
    "relevant = dhs_surveys[(dhs_surveys.year >= \"2015\") & (dhs_surveys['Survey Datasets'] == 'Data Available')]"
   ]
  },
  {
   "cell_type": "code",
   "execution_count": 56,
   "metadata": {},
   "outputs": [],
   "source": [
    "relevant_dhs_set = set(relevant.country.tolist())"
   ]
  },
  {
   "cell_type": "markdown",
   "metadata": {},
   "source": [
    "# Overlaps"
   ]
  },
  {
   "cell_type": "code",
   "execution_count": 57,
   "metadata": {},
   "outputs": [
    {
     "data": {
      "text/plain": [
       "{'Afghanistan',\n",
       " 'Angola',\n",
       " 'Armenia',\n",
       " 'Chad',\n",
       " 'Colombia',\n",
       " 'Egypt',\n",
       " 'Ethiopia',\n",
       " 'Ghana',\n",
       " 'Guatemala',\n",
       " 'India',\n",
       " 'Kenya',\n",
       " 'Liberia',\n",
       " 'Madagascar',\n",
       " 'Malawi',\n",
       " 'Mali',\n",
       " 'Myanmar',\n",
       " 'Nepal',\n",
       " 'Nigeria',\n",
       " 'Rwanda',\n",
       " 'Senegal',\n",
       " 'Sierra Leone',\n",
       " 'Tanzania',\n",
       " 'Uganda',\n",
       " 'Zimbabwe'}"
      ]
     },
     "execution_count": 57,
     "metadata": {},
     "output_type": "execute_result"
    }
   ],
   "source": [
    "relevant_dhs_set"
   ]
  },
  {
   "cell_type": "code",
   "execution_count": 58,
   "metadata": {},
   "outputs": [
    {
     "data": {
      "text/plain": [
       "{'Benin',\n",
       " 'Cameroon',\n",
       " 'Cuba',\n",
       " 'Dominican Republic',\n",
       " 'Egypt (Sub-national)',\n",
       " 'El Salvador',\n",
       " 'Guinea Bissau',\n",
       " 'Guyana',\n",
       " 'Kazakhstan',\n",
       " 'Kenya (Bungoma County)',\n",
       " 'Kenya (Kakamega County)',\n",
       " 'Kenya (Turkana County)',\n",
       " 'Kyrgyzstan',\n",
       " 'Malawi',\n",
       " 'Mali',\n",
       " 'Mexico',\n",
       " 'Mongolia',\n",
       " 'Nepal',\n",
       " 'Nigeria',\n",
       " 'Pakistan (Punjab)',\n",
       " 'Pakistan (Sindh)',\n",
       " 'Paraguay',\n",
       " 'Sao Tome and Principe',\n",
       " 'Serbia',\n",
       " 'Sudan',\n",
       " 'Swaziland',\n",
       " 'Turkmenistan',\n",
       " 'Viet Nam',\n",
       " 'Zimbabwe'}"
      ]
     },
     "execution_count": 58,
     "metadata": {},
     "output_type": "execute_result"
    }
   ],
   "source": [
    "mics_countries_set"
   ]
  },
  {
   "cell_type": "code",
   "execution_count": 61,
   "metadata": {},
   "outputs": [
    {
     "data": {
      "text/plain": [
       "{'',\n",
       " 'Algeria',\n",
       " 'Burkina Faso',\n",
       " 'Cambodia',\n",
       " 'Ghana',\n",
       " 'Haiti',\n",
       " 'Ivory Coast',\n",
       " 'Kenya',\n",
       " 'Madagascar',\n",
       " 'Malawi',\n",
       " 'Mexico',\n",
       " 'Mozambique',\n",
       " 'Puerto Rico',\n",
       " 'Rwanda',\n",
       " 'South Africa',\n",
       " 'Sri Lanka',\n",
       " 'Tanzania',\n",
       " 'Thailand',\n",
       " 'The Philippines',\n",
       " 'Uganda'}"
      ]
     },
     "execution_count": 61,
     "metadata": {},
     "output_type": "execute_result"
    }
   ],
   "source": [
    "hrsl_countries_set"
   ]
  },
  {
   "cell_type": "code",
   "execution_count": 60,
   "metadata": {},
   "outputs": [
    {
     "data": {
      "text/plain": [
       "{'Malawi', 'Mali', 'Nepal', 'Nigeria', 'Zimbabwe'}"
      ]
     },
     "execution_count": 60,
     "metadata": {},
     "output_type": "execute_result"
    }
   ],
   "source": [
    "mics_countries_set & relevant_dhs_set"
   ]
  },
  {
   "cell_type": "code",
   "execution_count": 62,
   "metadata": {},
   "outputs": [
    {
     "data": {
      "text/plain": [
       "{'Malawi', 'Mexico'}"
      ]
     },
     "execution_count": 62,
     "metadata": {},
     "output_type": "execute_result"
    }
   ],
   "source": [
    "mics_countries_set & hrsl_countries_set"
   ]
  },
  {
   "cell_type": "code",
   "execution_count": 63,
   "metadata": {},
   "outputs": [
    {
     "data": {
      "text/plain": [
       "{'Ghana', 'Kenya', 'Madagascar', 'Malawi', 'Rwanda', 'Tanzania', 'Uganda'}"
      ]
     },
     "execution_count": 63,
     "metadata": {},
     "output_type": "execute_result"
    }
   ],
   "source": [
    "relevant_dhs_set & hrsl_countries_set"
   ]
  },
  {
   "cell_type": "code",
   "execution_count": 64,
   "metadata": {},
   "outputs": [
    {
     "data": {
      "text/plain": [
       "{'Malawi'}"
      ]
     },
     "execution_count": 64,
     "metadata": {},
     "output_type": "execute_result"
    }
   ],
   "source": [
    "relevant_dhs_set & hrsl_countries_set & mics_countries_set"
   ]
  },
  {
   "cell_type": "code",
   "execution_count": null,
   "metadata": {},
   "outputs": [],
   "source": []
  }
 ],
 "metadata": {
  "kernelspec": {
   "display_name": "Python 3",
   "language": "python",
   "name": "python3"
  },
  "language_info": {
   "codemirror_mode": {
    "name": "ipython",
    "version": 3
   },
   "file_extension": ".py",
   "mimetype": "text/x-python",
   "name": "python",
   "nbconvert_exporter": "python",
   "pygments_lexer": "ipython3",
   "version": "3.6.4"
  }
 },
 "nbformat": 4,
 "nbformat_minor": 2
}
